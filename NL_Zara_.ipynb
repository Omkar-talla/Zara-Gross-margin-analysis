{
  "nbformat": 4,
  "nbformat_minor": 0,
  "metadata": {
    "colab": {
      "provenance": []
    },
    "kernelspec": {
      "name": "python3",
      "display_name": "Python 3"
    },
    "language_info": {
      "name": "python"
    }
  },
  "cells": [
    {
      "cell_type": "markdown",
      "source": [
        "**GRADUATION PROJECT-ZARA GROSS MARGIN ANALYSIS**"
      ],
      "metadata": {
        "id": "jm95Ia6p8U64"
      }
    },
    {
      "cell_type": "markdown",
      "source": [
        "**BUSINESS PROBLEM OVERVIEW-**\n",
        "\n",
        "Sure! Here’s a clear, professional **Business Problem Overview** and **Objectives** section  I included in your Zara Gross Margin project notebook or report:\n",
        "\n",
        "---\n",
        "\n",
        "## Business Problem Overview\n",
        "\n",
        "Zara, a global leader in fast fashion, has experienced rapid growth with numerous stores worldwide. Traditionally, Zara has focused on increasing sales volume to drive revenue growth. However, to sustain profitability and competitive advantage, Zara now aims to shift its strategic focus towards maximizing **Gross Margin** — the difference between revenue earned and production costs.\n",
        "\n",
        "Gross Margin improvement is critical because it allows Zara to maintain affordable pricing for customers while increasing overall profitability. This requires deep insight into various factors affecting profitability, such as pricing strategies, discount usage, customer purchasing behavior, store performance, and product category contributions.\n",
        "\n",
        "By leveraging data-driven retail analytics, Zara seeks to uncover hidden opportunities to optimize these factors and maximize Gross Margin across markets, product lines, and customer segments.\n",
        "\n",
        "---\n",
        "\n",
        "## Project Objectives\n",
        "\n",
        "The key objectives of this project are to:\n",
        "\n",
        "1. **Define and Deconstruct Gross Margin:**\n",
        "   Understand Gross Margin as a business metric and break it down across key dimensions such as geography, product categories, time periods, customer segments, and store locations.\n",
        "\n",
        "2. **Identify High and Low Performing Segments:**\n",
        "   Analyze combinations of products, customers, and locations to determine which contribute most or least to profitability.\n",
        "\n",
        "3. **Evaluate Operational Impacts:**\n",
        "   Investigate how operational decisions like discount campaigns, store sizes, and employee roles affect Gross Margin.\n",
        "\n",
        "4. **Explore Trends and Patterns:**\n",
        "   Examine how Gross Margin changes over time, across regions, and within different store types to uncover actionable insights.\n",
        "\n",
        "5. **Provide Data-Driven Recommendations:**\n",
        "   Suggest strategies for pricing, discounting, product focus, and resource allocation to help Zara maximize profitability while maintaining competitive pricing.\n",
        "\n",
        "\n",
        "\n",
        "## Business Impact\n",
        "\n",
        "1. **Improved Profitability:**\n",
        "   By identifying the most and least profitable products, customer segments, and store locations, Zara can optimize pricing and inventory to boost overall gross margin.\n",
        "\n",
        "2. **Targeted Discount Strategies:**\n",
        "   Insights into how discounts affect sales and margins enable Zara to design more effective promotional campaigns that increase revenue without eroding profits.\n",
        "\n",
        "3. **Enhanced Resource Allocation:**\n",
        "   Understanding store and employee performance helps Zara allocate resources efficiently, focusing efforts on high-impact stores and staff roles.\n",
        "\n",
        "4. **Data-Driven Decision Making:**\n",
        "   This analysis equips Zara’s leadership with actionable insights, supporting smarter decisions on product assortment, pricing, and marketing to sustain long-term growth.\n"
      ],
      "metadata": {
        "id": "4Uv4prP28lAU"
      }
    },
    {
      "cell_type": "markdown",
      "source": [
        "**COLUMN DEFINIIONS:**\n",
        "\n",
        "\n",
        "### **customers.csv**\n",
        "\n",
        "* **CustomerID**\n",
        "  Unique identifier assigned to each customer.\n",
        "\n",
        "* **Name**\n",
        "  Full name of the customer, possibly including titles or suffixes.\n",
        "\n",
        "* **Email**\n",
        "  Anonymized email address with fake domains.\n",
        "\n",
        "* **Telephone**\n",
        "  Customer’s phone number, including country codes or extensions.\n",
        "\n",
        "* **City**\n",
        "  City where the customer resides.\n",
        "\n",
        "* **Country**\n",
        "  Country where the customer lives.\n",
        "\n",
        "* **Gender**\n",
        "  Customer’s gender: F (Female), M (Male), or D (Diverse).\n",
        "\n",
        "* **DateOfBirth**\n",
        "  Customer’s birth date in YYYY-MM-DD format.\n",
        "\n",
        "* **JobTitle**\n",
        "  Customer’s occupation; may be blank or have multiple roles.\n",
        "\n",
        "---\n",
        "\n",
        "### **discounts.csv**\n",
        "\n",
        "* **Start Date**\n",
        "  Beginning date of the discount campaign (YYYY-MM-DD).\n",
        "\n",
        "* **End Date**\n",
        "  End date of the discount campaign (YYYY-MM-DD).\n",
        "\n",
        "* **Discount**\n",
        "  Discount rate as a decimal (e.g., 0.20 means 20%).\n",
        "\n",
        "* **Description**\n",
        "  Text describing the discount campaign’s purpose or theme.\n",
        "\n",
        "* **Discount Percentage**\n",
        "  Same as Discount column, showing discount rate as decimal.\n",
        "\n",
        "* **Category**\n",
        "  Main product category applicable for the discount.\n",
        "\n",
        "* **Sub Category**\n",
        "  More specific product sub-category for the discount.\n",
        "\n",
        "---\n",
        "\n",
        "### **employees.csv**\n",
        "\n",
        "* **Employee ID**\n",
        "  Unique identifier for each employee.\n",
        "\n",
        "* **Store ID**\n",
        "  ID of the store where the employee works (links to stores.csv).\n",
        "\n",
        "* **Name**\n",
        "  Full name of the employee (First Name + Last Name).\n",
        "\n",
        "* **Position**\n",
        "  Role of the employee (e.g., Manager, Seller).\n",
        "\n",
        "---\n",
        "\n",
        "### **products.csv**\n",
        "\n",
        "* **Product ID**\n",
        "  Unique ID for each product.\n",
        "\n",
        "* **Category**\n",
        "  Main classification (e.g., Feminine, Masculine, Children).\n",
        "\n",
        "* **Sub Category**\n",
        "  More specific category within the main category.\n",
        "\n",
        "* **Description PT / DE / FR / ES / EN / ZH**\n",
        "  Product descriptions in Portuguese, German, French, Spanish, English, and Chinese.\n",
        "\n",
        "* **Color**\n",
        "  Product color.\n",
        "\n",
        "* **Sizes**\n",
        "  Available sizes separated by pipe (|).\n",
        "\n",
        "* **Production Cost**\n",
        "  Cost to produce one unit (in USD).\n",
        "\n",
        "---\n",
        "\n",
        "### **stores.csv**\n",
        "\n",
        "* **Store ID**\n",
        "  Unique number assigned to each store location.\n",
        "\n",
        "* **Country**\n",
        "  Country where the store is located.\n",
        "\n",
        "* **City**\n",
        "  City where the store operates.\n",
        "\n",
        "* **Store Name**\n",
        "  Name of the store, typically including the city.\n",
        "\n",
        "* **Number of Employees**\n",
        "  Total number of employees working at the store.\n",
        "\n",
        "* **ZIP Code**\n",
        "  Postal or ZIP code of the store’s location.\n",
        "\n",
        "* **Latitude**\n",
        "  Geographical latitude of the store.\n",
        "\n",
        "* **Longitude**\n",
        "  Geographical longitude of the store.\n",
        "\n",
        "---\n",
        "\n",
        "### **transactions.csv**\n",
        "\n",
        "* **Invoice ID**\n",
        "  Unique code for each transaction identifying sale or return, country, store, and serial number.\n",
        "\n",
        "* **Line**\n",
        "  Position of the product in the invoice (multiple line items per invoice possible).\n",
        "\n",
        "* **Customer ID**\n",
        "  ID of the customer making the purchase (links to customers.csv).\n",
        "\n",
        "* **Product ID**\n",
        "  ID of the purchased product (links to products.csv).\n",
        "\n",
        "* **Size**\n",
        "  Size of the product purchased (may be blank).\n",
        "\n",
        "* **Color**\n",
        "  Color of the product purchased (may be blank).\n",
        "\n",
        "* **Unit Price**\n",
        "  Price per single unit before discount.\n",
        "\n",
        "* **Quantity**\n",
        "  Number of units purchased for the line item.\n",
        "\n",
        "* **Date**\n",
        "  Date and time of the transaction (YYYY-MM-DD HH\\:MM\\:SS).\n",
        "\n",
        "* **Discount**\n",
        "  Discount applied on this line item as decimal (e.g., 0.30 = 30% off).\n",
        "\n",
        "* **Line Total**\n",
        "  Final cost for the line item after discount.\n",
        "\n",
        "* **Store ID**\n",
        "  ID of the store where the transaction occurred (links to stores.csv).\n",
        "\n",
        "* **Employee ID**\n",
        "  ID of the employee who processed the sale (links to employees.csv).\n",
        "\n",
        "* **Currency**\n",
        "  Three-letter currency code used in the transaction.\n",
        "\n",
        "* **Currency Symbol**\n",
        "  Symbol representing the currency.\n",
        "\n",
        "* **SKU**\n",
        "  Stock Keeping Unit combining Product ID, Size, and Color.\n",
        "\n",
        "* **Transaction Type**\n",
        "  Indicates Sale or Return.\n",
        "\n",
        "* **Payment Method**\n",
        "  Payment type used by customer (e.g., Credit Card, Cash).\n",
        "\n",
        "* **Invoice Total**\n",
        "  Total value of the entire invoice (repeated on all line items of the invoice).\n",
        "\n"
      ],
      "metadata": {
        "id": "fvOxCGdx9z6T"
      }
    },
    {
      "cell_type": "markdown",
      "source": [
        "**ANALYSIS OF ZARA GROSS MARGIN**"
      ],
      "metadata": {
        "id": "R3nGqQnoFQCx"
      }
    },
    {
      "cell_type": "markdown",
      "source": [
        "**Import Libraries and Load Data**"
      ],
      "metadata": {
        "id": "l-WNg7O0FpdB"
      }
    },
    {
      "cell_type": "markdown",
      "source": [
        "**Step 1.1: Import Libraries**"
      ],
      "metadata": {
        "id": "SCzlKxkQFwlf"
      }
    },
    {
      "cell_type": "code",
      "execution_count": null,
      "metadata": {
        "colab": {
          "base_uri": "https://localhost:8080/"
        },
        "id": "0qfCoapem7NA",
        "outputId": "a752b23a-9c33-45b0-ee8d-4b30cb141747"
      },
      "outputs": [
        {
          "output_type": "stream",
          "name": "stdout",
          "text": [
            "Requirement already satisfied: gdown in /usr/local/lib/python3.12/dist-packages (5.2.0)\n",
            "Requirement already satisfied: beautifulsoup4 in /usr/local/lib/python3.12/dist-packages (from gdown) (4.13.5)\n",
            "Requirement already satisfied: filelock in /usr/local/lib/python3.12/dist-packages (from gdown) (3.20.0)\n",
            "Requirement already satisfied: requests[socks] in /usr/local/lib/python3.12/dist-packages (from gdown) (2.32.4)\n",
            "Requirement already satisfied: tqdm in /usr/local/lib/python3.12/dist-packages (from gdown) (4.67.1)\n",
            "Requirement already satisfied: soupsieve>1.2 in /usr/local/lib/python3.12/dist-packages (from beautifulsoup4->gdown) (2.8)\n",
            "Requirement already satisfied: typing-extensions>=4.0.0 in /usr/local/lib/python3.12/dist-packages (from beautifulsoup4->gdown) (4.15.0)\n",
            "Requirement already satisfied: charset_normalizer<4,>=2 in /usr/local/lib/python3.12/dist-packages (from requests[socks]->gdown) (3.4.3)\n",
            "Requirement already satisfied: idna<4,>=2.5 in /usr/local/lib/python3.12/dist-packages (from requests[socks]->gdown) (3.10)\n",
            "Requirement already satisfied: urllib3<3,>=1.21.1 in /usr/local/lib/python3.12/dist-packages (from requests[socks]->gdown) (2.5.0)\n",
            "Requirement already satisfied: certifi>=2017.4.17 in /usr/local/lib/python3.12/dist-packages (from requests[socks]->gdown) (2025.10.5)\n",
            "Requirement already satisfied: PySocks!=1.5.7,>=1.5.6 in /usr/local/lib/python3.12/dist-packages (from requests[socks]->gdown) (1.7.1)\n"
          ]
        }
      ],
      "source": [
        "!pip install gdown\n",
        "\n",
        "import gdown\n",
        "import pandas as pd\n",
        "import numpy as np\n",
        "import matplotlib.pyplot as plt\n",
        "import seaborn as sns"
      ]
    },
    {
      "cell_type": "markdown",
      "source": [
        "Explanation:\n",
        "We import essential libraries for data manipulation (pandas), numerical operations (numpy), and visualization (matplotlib, seaborn)."
      ],
      "metadata": {
        "id": "NT9ystLPGEiW"
      }
    },
    {
      "cell_type": "markdown",
      "source": [
        "**Step 1.2: Load Dataset**:\n",
        "\n",
        "Now we are uploading all the datasets files in here from the drive"
      ],
      "metadata": {
        "id": "w_x267AdGKGT"
      }
    },
    {
      "cell_type": "code",
      "source": [
        "import gdown\n",
        "import pandas as pd\n",
        "import numpy as np\n",
        "import matplotlib.pyplot as plt\n",
        "import seaborn as sns"
      ],
      "metadata": {
        "id": "gC-_tDEHnb13"
      },
      "execution_count": null,
      "outputs": []
    },
    {
      "cell_type": "code",
      "source": [
        "file_id=\"1gU90GdFLZOO5jPePOAVbNakNX5DCKgtQ\"\n",
        "download_url = f\"https://drive.google.com/uc?id={file_id}\"\n",
        "output_file = \"transactions.csv\"\n",
        "gdown.download(download_url, output_file, quiet=False)\n",
        "data = pd.read_csv(output_file)"
      ],
      "metadata": {
        "colab": {
          "base_uri": "https://localhost:8080/"
        },
        "id": "Jlud2U9hoeWc",
        "outputId": "a2c671b6-e959-4f14-e0b1-c1490d47d803"
      },
      "execution_count": null,
      "outputs": [
        {
          "output_type": "stream",
          "name": "stderr",
          "text": [
            "Downloading...\n",
            "From (original): https://drive.google.com/uc?id=1gU90GdFLZOO5jPePOAVbNakNX5DCKgtQ\n",
            "From (redirected): https://drive.google.com/uc?id=1gU90GdFLZOO5jPePOAVbNakNX5DCKgtQ&confirm=t&uuid=30d22ba8-786f-4c30-b731-3e2584792a1b\n",
            "To: /content/transactions.csv\n",
            "100%|██████████| 805M/805M [00:10<00:00, 78.4MB/s]\n"
          ]
        }
      ]
    },
    {
      "cell_type": "code",
      "source": [
        "file_id=\"1QoHCOAkfdKciP94CxUfw4xf9oZyXBqD6\"\n",
        "download_url = f\"https://drive.google.com/uc?id={file_id}\"\n",
        "output_file = \"stores.csv\"\n",
        "gdown.download(download_url, output_file, quiet=False)\n",
        "data = pd.read_csv(output_file)"
      ],
      "metadata": {
        "colab": {
          "base_uri": "https://localhost:8080/"
        },
        "id": "j6lxqeqZrbdm",
        "outputId": "2029edf3-b163-49e5-ae3b-c606c3de9273"
      },
      "execution_count": null,
      "outputs": [
        {
          "output_type": "stream",
          "name": "stderr",
          "text": [
            "Downloading...\n",
            "From: https://drive.google.com/uc?id=1QoHCOAkfdKciP94CxUfw4xf9oZyXBqD6\n",
            "To: /content/stores.csv\n",
            "100%|██████████| 2.19k/2.19k [00:00<00:00, 5.72MB/s]\n"
          ]
        }
      ]
    },
    {
      "cell_type": "code",
      "source": [
        "file_id=\"1B-XBx4cHbYMCoY--P3s3Lmy9QVzouCyC\"\n",
        "download_url = f\"https://drive.google.com/uc?id={file_id}\"\n",
        "output_file = \"products.csv\"\n",
        "gdown.download(download_url, output_file, quiet=False)\n",
        "data = pd.read_csv(output_file)"
      ],
      "metadata": {
        "colab": {
          "base_uri": "https://localhost:8080/"
        },
        "id": "8ozoebYFygOZ",
        "outputId": "48079ec6-8bf9-4ac9-93b4-42f70f0495bd"
      },
      "execution_count": null,
      "outputs": [
        {
          "output_type": "stream",
          "name": "stderr",
          "text": [
            "Downloading...\n",
            "From: https://drive.google.com/uc?id=1B-XBx4cHbYMCoY--P3s3Lmy9QVzouCyC\n",
            "To: /content/products.csv\n",
            "100%|██████████| 4.99M/4.99M [00:00<00:00, 24.3MB/s]\n"
          ]
        }
      ]
    },
    {
      "cell_type": "code",
      "source": [
        "file_id=\"1lZwCUHlwgX97-xcbQV8FEeQ2JLtJQa1s\"\n",
        "download_url = f\"https://drive.google.com/uc?id={file_id}\"\n",
        "output_file = \"employees.csv\"\n",
        "gdown.download(download_url, output_file, quiet=False)\n",
        "data = pd.read_csv(output_file)"
      ],
      "metadata": {
        "colab": {
          "base_uri": "https://localhost:8080/"
        },
        "id": "-vtdfbJeyyag",
        "outputId": "056bb0ff-27bd-4784-fd71-e2d4f81a84b0"
      },
      "execution_count": null,
      "outputs": [
        {
          "output_type": "stream",
          "name": "stderr",
          "text": [
            "Downloading...\n",
            "From: https://drive.google.com/uc?id=1lZwCUHlwgX97-xcbQV8FEeQ2JLtJQa1s\n",
            "To: /content/employees.csv\n",
            "100%|██████████| 15.2k/15.2k [00:00<00:00, 8.98MB/s]\n"
          ]
        }
      ]
    },
    {
      "cell_type": "code",
      "source": [
        "file_id=\"1NJ0O1NJ20VeMzZYHiFBCrOIFnXKaggTc\"\n",
        "download_url = f\"https://drive.google.com/uc?id={file_id}\"\n",
        "output_file = \"discount.csv\"\n",
        "gdown.download(download_url, output_file, quiet=False)\n",
        "data = pd.read_csv(output_file)"
      ],
      "metadata": {
        "colab": {
          "base_uri": "https://localhost:8080/"
        },
        "id": "uYkTg2GRzM-e",
        "outputId": "223b6362-1f66-44f6-ae42-ae3affd3cf73"
      },
      "execution_count": null,
      "outputs": [
        {
          "output_type": "stream",
          "name": "stderr",
          "text": [
            "Downloading...\n",
            "From: https://drive.google.com/uc?id=1NJ0O1NJ20VeMzZYHiFBCrOIFnXKaggTc\n",
            "To: /content/discount.csv\n",
            "100%|██████████| 18.3k/18.3k [00:00<00:00, 16.2MB/s]\n"
          ]
        }
      ]
    },
    {
      "cell_type": "code",
      "source": [
        "file_id=\"13-juheNtpYsXAjm_D0W7EDB86pAl1Pew\"\n",
        "download_url = f\"https://drive.google.com/uc?id={file_id}\"\n",
        "output_file = \"customers.csv\"\n",
        "gdown.download(download_url, output_file, quiet=False)\n",
        "data = pd.read_csv(output_file)"
      ],
      "metadata": {
        "colab": {
          "base_uri": "https://localhost:8080/"
        },
        "id": "dU2iFAgYzdID",
        "outputId": "2795d739-6748-47b5-885f-9c69efd94248"
      },
      "execution_count": null,
      "outputs": [
        {
          "output_type": "stream",
          "name": "stderr",
          "text": [
            "Downloading...\n",
            "From (original): https://drive.google.com/uc?id=13-juheNtpYsXAjm_D0W7EDB86pAl1Pew\n",
            "From (redirected): https://drive.google.com/uc?id=13-juheNtpYsXAjm_D0W7EDB86pAl1Pew&confirm=t&uuid=c3b746e0-c933-4d0b-a49c-7b87e1a9252f\n",
            "To: /content/customers.csv\n",
            "100%|██████████| 191M/191M [00:02<00:00, 71.3MB/s]\n",
            "/tmp/ipython-input-3132703225.py:5: DtypeWarning: Columns (3) have mixed types. Specify dtype option on import or set low_memory=False.\n",
            "  data = pd.read_csv(output_file)\n"
          ]
        }
      ]
    },
    {
      "cell_type": "code",
      "source": [
        "# Step 1: Install PySpark (if not installed)\n",
        "!pip install pyspark --quiet\n",
        "\n",
        "# Step 2: Import Libraries\n",
        "import pandas as pd\n",
        "import numpy as np\n",
        "import matplotlib.pyplot as plt\n",
        "import seaborn as sns\n",
        "from pyspark.sql import SparkSession\n",
        "\n",
        "# Step 3: Create Spark session\n",
        "spark = SparkSession.builder.appName(\"ZaraGrossMarginAnalysis\").getOrCreate()\n",
        "\n",
        "# Step 4: Read CSVs (from local files you already downloaded via gdown)\n",
        "transactions_spark = spark.read.csv(\"transactions.csv\", header=True, inferSchema=True)\n",
        "products_spark = spark.read.csv(\"products.csv\", header=True, inferSchema=True)\n",
        "\n",
        "# Optional preview\n",
        "transactions_spark.show(5)\n",
        "products_spark.show(5)\n"
      ],
      "metadata": {
        "colab": {
          "base_uri": "https://localhost:8080/"
        },
        "id": "ywz5OzL6iWUq",
        "outputId": "58f17a01-4b06-401b-8fe6-5446b1870407"
      },
      "execution_count": null,
      "outputs": [
        {
          "output_type": "stream",
          "name": "stdout",
          "text": [
            "+-------------------+----+-----------+----------+----+-------+----------+--------+-------------------+--------+----------+--------+-----------+--------+---------------+----------------+----------------+--------------+-------------+\n",
            "|         Invoice ID|Line|Customer ID|Product ID|Size|  Color|Unit Price|Quantity|               Date|Discount|Line Total|Store ID|Employee ID|Currency|Currency Symbol|             SKU|Transaction Type|Payment Method|Invoice Total|\n",
            "+-------------------+----+-----------+----------+----+-------+----------+--------+-------------------+--------+----------+--------+-----------+--------+---------------+----------------+----------------+--------------+-------------+\n",
            "|INV-US-001-03558761|   1|      47162|       485|   M|   NULL|      80.5|       1|2023-01-01 15:42:00|     0.0|      80.5|       1|          7|     USD|              $|      MASU485-M-|            Sale|          Cash|        126.7|\n",
            "|INV-US-001-03558761|   2|      47162|      2779|   G|   NULL|      31.5|       1|2023-01-01 15:42:00|     0.4|      18.9|       1|          7|     USD|              $|     CHCO2779-G-|            Sale|          Cash|        126.7|\n",
            "|INV-US-001-03558761|   3|      47162|        64|   M|NEUTRAL|      45.5|       1|2023-01-01 15:42:00|     0.4|      27.3|       1|          7|     USD|              $|MACO64-M-NEUTRAL|            Sale|          Cash|        126.7|\n",
            "|INV-US-001-03558762|   1|      10142|       131|   M|   BLUE|      70.0|       1|2023-01-01 20:04:00|     0.4|      42.0|       1|          6|     USD|              $|  FECO131-M-BLUE|            Sale|          Cash|         77.0|\n",
            "|INV-US-001-03558762|   2|      10142|       716|   L|  WHITE|      26.0|       1|2023-01-01 20:04:00|     0.0|      26.0|       1|          6|     USD|              $| MAT-716-L-WHITE|            Sale|          Cash|         77.0|\n",
            "+-------------------+----+-----------+----------+----+-------+----------+--------+-------------------+--------+----------+--------+-----------+--------+---------------+----------------+----------------+--------------+-------------+\n",
            "only showing top 5 rows\n",
            "\n",
            "+----------+--------+--------------------+--------------------+--------------------+--------------------+--------------------+--------------------+------------------------+-----+--------+---------------+\n",
            "|Product ID|Category|        Sub Category|      Description PT|      Description DE|      Description FR|      Description ES|      Description EN|          Description ZH|Color|   Sizes|Production Cost|\n",
            "+----------+--------+--------------------+--------------------+--------------------+--------------------+--------------------+--------------------+------------------------+-----+--------+---------------+\n",
            "|         1|Feminine|   Coats and Blazers|Esportivo Veludo ...|Sport Samt Sport ...|Sports Velvet Spo...|Deportes De Terci...|Sports Velvet Spo...|    运动天鹅绒运动与按钮| NULL|S|M|L|XL|          10.73|\n",
            "|         2|Feminine|Sweaters and Knit...|Luxuoso Denim Ros...|Luxuriöser Rosa J...|Léchard De Denim ...|Denim Rosa Lujoso...|Luxurious Pink De...|豪华的粉红色牛仔布和纽扣| PINK|S|M|L|XL|          19.55|\n",
            "|         3|Feminine|Dresses and Jumps...|Retrô Tricot Pret...|Black Tricot Gedr...|Tricot Imprimé En...|Tricot Negro Tric...|Black Tricot Prin...|    黑色三角形印刷三角形|BLACK|S|M|L|XL|          25.59|\n",
            "|         4|Feminine|  Shirts and Blouses|Blusa De Algodão ...|Basis -Baumwollbluse|Chemisier En Coto...|    Blusa De Algodón| Basic Cotton Blouse|            基本的棉衬衫| NULL|S|M|L|XL|          27.62|\n",
            "|         5|Feminine|   T-shirts and Tops|T-Shirt Básica De...|Basis-Baumwoll-T-...|T-Shirt En Coton ...|Camiseta Básica D...|Basic Cotton T-Shirt|               基本棉T恤| NULL|   S|M|L|          11.69|\n",
            "+----------+--------+--------------------+--------------------+--------------------+--------------------+--------------------+--------------------+------------------------+-----+--------+---------------+\n",
            "only showing top 5 rows\n",
            "\n"
          ]
        }
      ]
    },
    {
      "cell_type": "markdown",
      "source": [
        "**Explanation:**\n",
        "Load your Zara dataset into a pandas DataFrame."
      ],
      "metadata": {
        "id": "2VdayNFYGeq3"
      }
    },
    {
      "cell_type": "code",
      "source": [
        "import pandas as pd\n",
        "\n",
        "customers = pd.read_csv(\"customers.csv\")\n",
        "discounts = pd.read_csv(\"discount.csv\")\n",
        "employees = pd.read_csv(\"employees.csv\")\n",
        "products = pd.read_csv(\"products.csv\")\n",
        "stores = pd.read_csv(\"stores.csv\")\n",
        "transactions = pd.read_csv(\"transactions.csv\")\n",
        "\n"
      ],
      "metadata": {
        "colab": {
          "base_uri": "https://localhost:8080/"
        },
        "id": "6GmBOkpC0UXs",
        "outputId": "d1600820-86de-4f38-b75c-81a77eef3116"
      },
      "execution_count": null,
      "outputs": [
        {
          "output_type": "stream",
          "name": "stderr",
          "text": [
            "<ipython-input-9-46a0e2c4d3c2>:3: DtypeWarning: Columns (3) have mixed types. Specify dtype option on import or set low_memory=False.\n",
            "  customers = pd.read_csv(\"customers.csv\")\n"
          ]
        }
      ]
    },
    {
      "cell_type": "markdown",
      "source": [
        "**Step 1.3: View Basic Info**"
      ],
      "metadata": {
        "id": "P7ddMGTZGtII"
      }
    },
    {
      "cell_type": "code",
      "source": [
        "customers.head()\n",
        "discounts.head()\n",
        "transactions.head()\n",
        "employees.head()"
      ],
      "metadata": {
        "colab": {
          "base_uri": "https://localhost:8080/",
          "height": 206
        },
        "id": "J6r_c8wL2QpU",
        "outputId": "41070216-ca49-47df-a9d6-e43ee9312ffd"
      },
      "execution_count": null,
      "outputs": [
        {
          "output_type": "execute_result",
          "data": {
            "text/plain": [
              "   Employee ID  Store ID                Name           Position\n",
              "0            1         1     Stephen Johnson      Store Manager\n",
              "1            2         1       Rebecca Myers  Assistant Manager\n",
              "2            3         1  Katherine Buchanan            Cashier\n",
              "3            4         1       Jessica Hicks        Stock Clerk\n",
              "4            5         1          Ryan Gross    Sales Associate"
            ],
            "text/html": [
              "\n",
              "  <div id=\"df-6928173b-216d-4128-8ff3-3b7f05ca69dc\" class=\"colab-df-container\">\n",
              "    <div>\n",
              "<style scoped>\n",
              "    .dataframe tbody tr th:only-of-type {\n",
              "        vertical-align: middle;\n",
              "    }\n",
              "\n",
              "    .dataframe tbody tr th {\n",
              "        vertical-align: top;\n",
              "    }\n",
              "\n",
              "    .dataframe thead th {\n",
              "        text-align: right;\n",
              "    }\n",
              "</style>\n",
              "<table border=\"1\" class=\"dataframe\">\n",
              "  <thead>\n",
              "    <tr style=\"text-align: right;\">\n",
              "      <th></th>\n",
              "      <th>Employee ID</th>\n",
              "      <th>Store ID</th>\n",
              "      <th>Name</th>\n",
              "      <th>Position</th>\n",
              "    </tr>\n",
              "  </thead>\n",
              "  <tbody>\n",
              "    <tr>\n",
              "      <th>0</th>\n",
              "      <td>1</td>\n",
              "      <td>1</td>\n",
              "      <td>Stephen Johnson</td>\n",
              "      <td>Store Manager</td>\n",
              "    </tr>\n",
              "    <tr>\n",
              "      <th>1</th>\n",
              "      <td>2</td>\n",
              "      <td>1</td>\n",
              "      <td>Rebecca Myers</td>\n",
              "      <td>Assistant Manager</td>\n",
              "    </tr>\n",
              "    <tr>\n",
              "      <th>2</th>\n",
              "      <td>3</td>\n",
              "      <td>1</td>\n",
              "      <td>Katherine Buchanan</td>\n",
              "      <td>Cashier</td>\n",
              "    </tr>\n",
              "    <tr>\n",
              "      <th>3</th>\n",
              "      <td>4</td>\n",
              "      <td>1</td>\n",
              "      <td>Jessica Hicks</td>\n",
              "      <td>Stock Clerk</td>\n",
              "    </tr>\n",
              "    <tr>\n",
              "      <th>4</th>\n",
              "      <td>5</td>\n",
              "      <td>1</td>\n",
              "      <td>Ryan Gross</td>\n",
              "      <td>Sales Associate</td>\n",
              "    </tr>\n",
              "  </tbody>\n",
              "</table>\n",
              "</div>\n",
              "    <div class=\"colab-df-buttons\">\n",
              "\n",
              "  <div class=\"colab-df-container\">\n",
              "    <button class=\"colab-df-convert\" onclick=\"convertToInteractive('df-6928173b-216d-4128-8ff3-3b7f05ca69dc')\"\n",
              "            title=\"Convert this dataframe to an interactive table.\"\n",
              "            style=\"display:none;\">\n",
              "\n",
              "  <svg xmlns=\"http://www.w3.org/2000/svg\" height=\"24px\" viewBox=\"0 -960 960 960\">\n",
              "    <path d=\"M120-120v-720h720v720H120Zm60-500h600v-160H180v160Zm220 220h160v-160H400v160Zm0 220h160v-160H400v160ZM180-400h160v-160H180v160Zm440 0h160v-160H620v160ZM180-180h160v-160H180v160Zm440 0h160v-160H620v160Z\"/>\n",
              "  </svg>\n",
              "    </button>\n",
              "\n",
              "  <style>\n",
              "    .colab-df-container {\n",
              "      display:flex;\n",
              "      gap: 12px;\n",
              "    }\n",
              "\n",
              "    .colab-df-convert {\n",
              "      background-color: #E8F0FE;\n",
              "      border: none;\n",
              "      border-radius: 50%;\n",
              "      cursor: pointer;\n",
              "      display: none;\n",
              "      fill: #1967D2;\n",
              "      height: 32px;\n",
              "      padding: 0 0 0 0;\n",
              "      width: 32px;\n",
              "    }\n",
              "\n",
              "    .colab-df-convert:hover {\n",
              "      background-color: #E2EBFA;\n",
              "      box-shadow: 0px 1px 2px rgba(60, 64, 67, 0.3), 0px 1px 3px 1px rgba(60, 64, 67, 0.15);\n",
              "      fill: #174EA6;\n",
              "    }\n",
              "\n",
              "    .colab-df-buttons div {\n",
              "      margin-bottom: 4px;\n",
              "    }\n",
              "\n",
              "    [theme=dark] .colab-df-convert {\n",
              "      background-color: #3B4455;\n",
              "      fill: #D2E3FC;\n",
              "    }\n",
              "\n",
              "    [theme=dark] .colab-df-convert:hover {\n",
              "      background-color: #434B5C;\n",
              "      box-shadow: 0px 1px 3px 1px rgba(0, 0, 0, 0.15);\n",
              "      filter: drop-shadow(0px 1px 2px rgba(0, 0, 0, 0.3));\n",
              "      fill: #FFFFFF;\n",
              "    }\n",
              "  </style>\n",
              "\n",
              "    <script>\n",
              "      const buttonEl =\n",
              "        document.querySelector('#df-6928173b-216d-4128-8ff3-3b7f05ca69dc button.colab-df-convert');\n",
              "      buttonEl.style.display =\n",
              "        google.colab.kernel.accessAllowed ? 'block' : 'none';\n",
              "\n",
              "      async function convertToInteractive(key) {\n",
              "        const element = document.querySelector('#df-6928173b-216d-4128-8ff3-3b7f05ca69dc');\n",
              "        const dataTable =\n",
              "          await google.colab.kernel.invokeFunction('convertToInteractive',\n",
              "                                                    [key], {});\n",
              "        if (!dataTable) return;\n",
              "\n",
              "        const docLinkHtml = 'Like what you see? Visit the ' +\n",
              "          '<a target=\"_blank\" href=https://colab.research.google.com/notebooks/data_table.ipynb>data table notebook</a>'\n",
              "          + ' to learn more about interactive tables.';\n",
              "        element.innerHTML = '';\n",
              "        dataTable['output_type'] = 'display_data';\n",
              "        await google.colab.output.renderOutput(dataTable, element);\n",
              "        const docLink = document.createElement('div');\n",
              "        docLink.innerHTML = docLinkHtml;\n",
              "        element.appendChild(docLink);\n",
              "      }\n",
              "    </script>\n",
              "  </div>\n",
              "\n",
              "\n",
              "    <div id=\"df-83c323bb-ef89-4475-89d7-9f15187f86c5\">\n",
              "      <button class=\"colab-df-quickchart\" onclick=\"quickchart('df-83c323bb-ef89-4475-89d7-9f15187f86c5')\"\n",
              "                title=\"Suggest charts\"\n",
              "                style=\"display:none;\">\n",
              "\n",
              "<svg xmlns=\"http://www.w3.org/2000/svg\" height=\"24px\"viewBox=\"0 0 24 24\"\n",
              "     width=\"24px\">\n",
              "    <g>\n",
              "        <path d=\"M19 3H5c-1.1 0-2 .9-2 2v14c0 1.1.9 2 2 2h14c1.1 0 2-.9 2-2V5c0-1.1-.9-2-2-2zM9 17H7v-7h2v7zm4 0h-2V7h2v10zm4 0h-2v-4h2v4z\"/>\n",
              "    </g>\n",
              "</svg>\n",
              "      </button>\n",
              "\n",
              "<style>\n",
              "  .colab-df-quickchart {\n",
              "      --bg-color: #E8F0FE;\n",
              "      --fill-color: #1967D2;\n",
              "      --hover-bg-color: #E2EBFA;\n",
              "      --hover-fill-color: #174EA6;\n",
              "      --disabled-fill-color: #AAA;\n",
              "      --disabled-bg-color: #DDD;\n",
              "  }\n",
              "\n",
              "  [theme=dark] .colab-df-quickchart {\n",
              "      --bg-color: #3B4455;\n",
              "      --fill-color: #D2E3FC;\n",
              "      --hover-bg-color: #434B5C;\n",
              "      --hover-fill-color: #FFFFFF;\n",
              "      --disabled-bg-color: #3B4455;\n",
              "      --disabled-fill-color: #666;\n",
              "  }\n",
              "\n",
              "  .colab-df-quickchart {\n",
              "    background-color: var(--bg-color);\n",
              "    border: none;\n",
              "    border-radius: 50%;\n",
              "    cursor: pointer;\n",
              "    display: none;\n",
              "    fill: var(--fill-color);\n",
              "    height: 32px;\n",
              "    padding: 0;\n",
              "    width: 32px;\n",
              "  }\n",
              "\n",
              "  .colab-df-quickchart:hover {\n",
              "    background-color: var(--hover-bg-color);\n",
              "    box-shadow: 0 1px 2px rgba(60, 64, 67, 0.3), 0 1px 3px 1px rgba(60, 64, 67, 0.15);\n",
              "    fill: var(--button-hover-fill-color);\n",
              "  }\n",
              "\n",
              "  .colab-df-quickchart-complete:disabled,\n",
              "  .colab-df-quickchart-complete:disabled:hover {\n",
              "    background-color: var(--disabled-bg-color);\n",
              "    fill: var(--disabled-fill-color);\n",
              "    box-shadow: none;\n",
              "  }\n",
              "\n",
              "  .colab-df-spinner {\n",
              "    border: 2px solid var(--fill-color);\n",
              "    border-color: transparent;\n",
              "    border-bottom-color: var(--fill-color);\n",
              "    animation:\n",
              "      spin 1s steps(1) infinite;\n",
              "  }\n",
              "\n",
              "  @keyframes spin {\n",
              "    0% {\n",
              "      border-color: transparent;\n",
              "      border-bottom-color: var(--fill-color);\n",
              "      border-left-color: var(--fill-color);\n",
              "    }\n",
              "    20% {\n",
              "      border-color: transparent;\n",
              "      border-left-color: var(--fill-color);\n",
              "      border-top-color: var(--fill-color);\n",
              "    }\n",
              "    30% {\n",
              "      border-color: transparent;\n",
              "      border-left-color: var(--fill-color);\n",
              "      border-top-color: var(--fill-color);\n",
              "      border-right-color: var(--fill-color);\n",
              "    }\n",
              "    40% {\n",
              "      border-color: transparent;\n",
              "      border-right-color: var(--fill-color);\n",
              "      border-top-color: var(--fill-color);\n",
              "    }\n",
              "    60% {\n",
              "      border-color: transparent;\n",
              "      border-right-color: var(--fill-color);\n",
              "    }\n",
              "    80% {\n",
              "      border-color: transparent;\n",
              "      border-right-color: var(--fill-color);\n",
              "      border-bottom-color: var(--fill-color);\n",
              "    }\n",
              "    90% {\n",
              "      border-color: transparent;\n",
              "      border-bottom-color: var(--fill-color);\n",
              "    }\n",
              "  }\n",
              "</style>\n",
              "\n",
              "      <script>\n",
              "        async function quickchart(key) {\n",
              "          const quickchartButtonEl =\n",
              "            document.querySelector('#' + key + ' button');\n",
              "          quickchartButtonEl.disabled = true;  // To prevent multiple clicks.\n",
              "          quickchartButtonEl.classList.add('colab-df-spinner');\n",
              "          try {\n",
              "            const charts = await google.colab.kernel.invokeFunction(\n",
              "                'suggestCharts', [key], {});\n",
              "          } catch (error) {\n",
              "            console.error('Error during call to suggestCharts:', error);\n",
              "          }\n",
              "          quickchartButtonEl.classList.remove('colab-df-spinner');\n",
              "          quickchartButtonEl.classList.add('colab-df-quickchart-complete');\n",
              "        }\n",
              "        (() => {\n",
              "          let quickchartButtonEl =\n",
              "            document.querySelector('#df-83c323bb-ef89-4475-89d7-9f15187f86c5 button');\n",
              "          quickchartButtonEl.style.display =\n",
              "            google.colab.kernel.accessAllowed ? 'block' : 'none';\n",
              "        })();\n",
              "      </script>\n",
              "    </div>\n",
              "\n",
              "    </div>\n",
              "  </div>\n"
            ],
            "application/vnd.google.colaboratory.intrinsic+json": {
              "type": "dataframe",
              "variable_name": "employees",
              "summary": "{\n  \"name\": \"employees\",\n  \"rows\": 404,\n  \"fields\": [\n    {\n      \"column\": \"Employee ID\",\n      \"properties\": {\n        \"dtype\": \"number\",\n        \"std\": 116,\n        \"min\": 1,\n        \"max\": 404,\n        \"num_unique_values\": 404,\n        \"samples\": [\n          71,\n          219,\n          385\n        ],\n        \"semantic_type\": \"\",\n        \"description\": \"\"\n      }\n    },\n    {\n      \"column\": \"Store ID\",\n      \"properties\": {\n        \"dtype\": \"number\",\n        \"std\": 10,\n        \"min\": 1,\n        \"max\": 35,\n        \"num_unique_values\": 35,\n        \"samples\": [\n          27,\n          14,\n          25\n        ],\n        \"semantic_type\": \"\",\n        \"description\": \"\"\n      }\n    },\n    {\n      \"column\": \"Name\",\n      \"properties\": {\n        \"dtype\": \"string\",\n        \"num_unique_values\": 401,\n        \"samples\": [\n          \"H\\u00e9l\\u00e8ne Marchand-Leli\\u00e8vre\",\n          \"Capucine Rousseau\",\n          \"Adam Long\"\n        ],\n        \"semantic_type\": \"\",\n        \"description\": \"\"\n      }\n    },\n    {\n      \"column\": \"Position\",\n      \"properties\": {\n        \"dtype\": \"category\",\n        \"num_unique_values\": 5,\n        \"samples\": [\n          \"Assistant Manager\",\n          \"Sales Associate\",\n          \"Cashier\"\n        ],\n        \"semantic_type\": \"\",\n        \"description\": \"\"\n      }\n    }\n  ]\n}"
            }
          },
          "metadata": {},
          "execution_count": 10
        }
      ]
    },
    {
      "cell_type": "markdown",
      "source": [
        "In the above step the code gave customers.csv had mixed datatypes so to ignore that i used the below following code which ignores those type of warnings."
      ],
      "metadata": {
        "id": "IFp86EcoLgjY"
      }
    },
    {
      "cell_type": "code",
      "source": [
        "customers = pd.read_csv(\"customers.csv\", low_memory=False)\n"
      ],
      "metadata": {
        "id": "RmWeruKQ2Xng"
      },
      "execution_count": null,
      "outputs": []
    },
    {
      "cell_type": "markdown",
      "source": [
        "**SHAPE AND INFO of the datasets given**: CHECKING FOR SHAPE AND BASIC INFO OF EACH DATASET"
      ],
      "metadata": {
        "id": "zdusX-KV3DKE"
      }
    },
    {
      "cell_type": "code",
      "source": [
        "# Check rows and columns of all the datasets\n",
        "print(\"Customers:\", customers.shape)\n",
        "print(\"Discounts:\", discounts.shape)\n",
        "print(\"Employees:\", employees.shape)\n",
        "print(\"Products:\", products.shape)\n",
        "print(\"Stores:\", stores.shape)\n",
        "print(\"Transactions:\", transactions.shape)\n",
        "\n",
        "\n"
      ],
      "metadata": {
        "colab": {
          "base_uri": "https://localhost:8080/"
        },
        "id": "pT2Msa0v2zsL",
        "outputId": "b5daee90-3390-4741-b413-79e461b02843"
      },
      "execution_count": null,
      "outputs": [
        {
          "output_type": "stream",
          "name": "stdout",
          "text": [
            "Customers: (1643306, 9)\n",
            "Discounts: (181, 6)\n",
            "Employees: (404, 4)\n",
            "Products: (17940, 12)\n",
            "Stores: (35, 8)\n",
            "Transactions: (6416827, 19)\n"
          ]
        }
      ]
    },
    {
      "cell_type": "code",
      "source": [
        "# Shows column info and null values\n",
        "customers.info()\n",
        "discounts.info()\n",
        "employees.info()\n",
        "products.info()\n",
        "stores.info()\n",
        "transactions.info()"
      ],
      "metadata": {
        "colab": {
          "base_uri": "https://localhost:8080/"
        },
        "id": "mPwwfC2XNRrU",
        "outputId": "e0b523f4-a38d-4440-934f-bece056ae8fe"
      },
      "execution_count": null,
      "outputs": [
        {
          "output_type": "stream",
          "name": "stdout",
          "text": [
            "<class 'pandas.core.frame.DataFrame'>\n",
            "RangeIndex: 1643306 entries, 0 to 1643305\n",
            "Data columns (total 9 columns):\n",
            " #   Column         Non-Null Count    Dtype \n",
            "---  ------         --------------    ----- \n",
            " 0   Customer ID    1643306 non-null  int64 \n",
            " 1   Name           1643306 non-null  object\n",
            " 2   Email          1643306 non-null  object\n",
            " 3   Telephone      1643306 non-null  object\n",
            " 4   City           1643306 non-null  object\n",
            " 5   Country        1643306 non-null  object\n",
            " 6   Gender         1643306 non-null  object\n",
            " 7   Date Of Birth  1643306 non-null  object\n",
            " 8   Job Title      1059121 non-null  object\n",
            "dtypes: int64(1), object(8)\n",
            "memory usage: 112.8+ MB\n",
            "<class 'pandas.core.frame.DataFrame'>\n",
            "RangeIndex: 181 entries, 0 to 180\n",
            "Data columns (total 6 columns):\n",
            " #   Column        Non-Null Count  Dtype  \n",
            "---  ------        --------------  -----  \n",
            " 0   Start         181 non-null    object \n",
            " 1   End           181 non-null    object \n",
            " 2   Discont       181 non-null    float64\n",
            " 3   Description   181 non-null    object \n",
            " 4   Category      171 non-null    object \n",
            " 5   Sub Category  171 non-null    object \n",
            "dtypes: float64(1), object(5)\n",
            "memory usage: 8.6+ KB\n",
            "<class 'pandas.core.frame.DataFrame'>\n",
            "RangeIndex: 404 entries, 0 to 403\n",
            "Data columns (total 4 columns):\n",
            " #   Column       Non-Null Count  Dtype \n",
            "---  ------       --------------  ----- \n",
            " 0   Employee ID  404 non-null    int64 \n",
            " 1   Store ID     404 non-null    int64 \n",
            " 2   Name         404 non-null    object\n",
            " 3   Position     404 non-null    object\n",
            "dtypes: int64(2), object(2)\n",
            "memory usage: 12.8+ KB\n",
            "<class 'pandas.core.frame.DataFrame'>\n",
            "RangeIndex: 17940 entries, 0 to 17939\n",
            "Data columns (total 12 columns):\n",
            " #   Column           Non-Null Count  Dtype  \n",
            "---  ------           --------------  -----  \n",
            " 0   Product ID       17940 non-null  int64  \n",
            " 1   Category         17940 non-null  object \n",
            " 2   Sub Category     17940 non-null  object \n",
            " 3   Description PT   17940 non-null  object \n",
            " 4   Description DE   17940 non-null  object \n",
            " 5   Description FR   17940 non-null  object \n",
            " 6   Description ES   17940 non-null  object \n",
            " 7   Description EN   17940 non-null  object \n",
            " 8   Description ZH   17940 non-null  object \n",
            " 9   Color            5495 non-null   object \n",
            " 10  Sizes            15870 non-null  object \n",
            " 11  Production Cost  17940 non-null  float64\n",
            "dtypes: float64(1), int64(1), object(10)\n",
            "memory usage: 1.6+ MB\n",
            "<class 'pandas.core.frame.DataFrame'>\n",
            "RangeIndex: 35 entries, 0 to 34\n",
            "Data columns (total 8 columns):\n",
            " #   Column               Non-Null Count  Dtype  \n",
            "---  ------               --------------  -----  \n",
            " 0   Store ID             35 non-null     int64  \n",
            " 1   Country              35 non-null     object \n",
            " 2   City                 35 non-null     object \n",
            " 3   Store Name           35 non-null     object \n",
            " 4   Number of Employees  35 non-null     int64  \n",
            " 5   ZIP Code             35 non-null     object \n",
            " 6   Latitude             35 non-null     float64\n",
            " 7   Longitude            35 non-null     float64\n",
            "dtypes: float64(2), int64(2), object(4)\n",
            "memory usage: 2.3+ KB\n",
            "<class 'pandas.core.frame.DataFrame'>\n",
            "RangeIndex: 6416827 entries, 0 to 6416826\n",
            "Data columns (total 19 columns):\n",
            " #   Column            Dtype  \n",
            "---  ------            -----  \n",
            " 0   Invoice ID        object \n",
            " 1   Line              int64  \n",
            " 2   Customer ID       int64  \n",
            " 3   Product ID        int64  \n",
            " 4   Size              object \n",
            " 5   Color             object \n",
            " 6   Unit Price        float64\n",
            " 7   Quantity          int64  \n",
            " 8   Date              object \n",
            " 9   Discount          float64\n",
            " 10  Line Total        float64\n",
            " 11  Store ID          int64  \n",
            " 12  Employee ID       int64  \n",
            " 13  Currency          object \n",
            " 14  Currency Symbol   object \n",
            " 15  SKU               object \n",
            " 16  Transaction Type  object \n",
            " 17  Payment Method    object \n",
            " 18  Invoice Total     float64\n",
            "dtypes: float64(4), int64(6), object(9)\n",
            "memory usage: 930.2+ MB\n"
          ]
        }
      ]
    },
    {
      "cell_type": "markdown",
      "source": [
        "**Step 1.4**:Checking for null and  missing values"
      ],
      "metadata": {
        "id": "a1Otvvud3Nhy"
      }
    },
    {
      "cell_type": "code",
      "source": [
        "customers_null_count = customers.isnull().sum()\n",
        "discounts_null_count = discounts.isnull().sum()\n",
        "employees_null_count = employees.isnull().sum()\n",
        "products_null_count = products.isnull().sum()\n",
        "stores_null_count = stores.isnull().sum()\n",
        "transactions_null_count = transactions.isnull().sum()\n",
        "print(customers_null_count)\n",
        "print(discounts_null_count)\n",
        "print(stores_null_count)\n",
        "print(employees_null_count)\n",
        "print(transactions_null_count)"
      ],
      "metadata": {
        "colab": {
          "base_uri": "https://localhost:8080/"
        },
        "id": "xqNTRghv3Wt7",
        "outputId": "95ac463c-8626-4426-8a8c-edf5d787b105"
      },
      "execution_count": null,
      "outputs": [
        {
          "output_type": "stream",
          "name": "stdout",
          "text": [
            "Customer ID           0\n",
            "Name                  0\n",
            "Email                 0\n",
            "Telephone             0\n",
            "City                  0\n",
            "Country               0\n",
            "Gender                0\n",
            "Date Of Birth         0\n",
            "Job Title        584185\n",
            "dtype: int64\n",
            "Start            0\n",
            "End              0\n",
            "Discont          0\n",
            "Description      0\n",
            "Category        10\n",
            "Sub Category    10\n",
            "dtype: int64\n",
            "Store ID               0\n",
            "Country                0\n",
            "City                   0\n",
            "Store Name             0\n",
            "Number of Employees    0\n",
            "ZIP Code               0\n",
            "Latitude               0\n",
            "Longitude              0\n",
            "dtype: int64\n",
            "Employee ID    0\n",
            "Store ID       0\n",
            "Name           0\n",
            "Position       0\n",
            "dtype: int64\n",
            "Invoice ID                0\n",
            "Line                      0\n",
            "Customer ID               0\n",
            "Product ID                0\n",
            "Size                 413102\n",
            "Color               4350783\n",
            "Unit Price                0\n",
            "Quantity                  0\n",
            "Date                      0\n",
            "Discount                  0\n",
            "Line Total                0\n",
            "Store ID                  0\n",
            "Employee ID               0\n",
            "Currency                  0\n",
            "Currency Symbol           0\n",
            "SKU                       0\n",
            "Transaction Type          0\n",
            "Payment Method            0\n",
            "Invoice Total             0\n",
            "dtype: int64\n"
          ]
        }
      ]
    },
    {
      "cell_type": "markdown",
      "source": [
        "The above one is showing there are some null values in different columns like some of them are size,color,category,subcategory"
      ],
      "metadata": {
        "id": "KFNBGujSf5eF"
      }
    },
    {
      "cell_type": "markdown",
      "source": [
        "Checking for duplicates"
      ],
      "metadata": {
        "id": "e__IZxPx3fbJ"
      }
    },
    {
      "cell_type": "code",
      "source": [
        "print(\"Number of duplicate records in Customers:\", customers.duplicated().sum())\n",
        "print(\"Number of duplicate records in Discounts:\", discounts.duplicated().sum())\n",
        "print(\"Number of duplicate records in Employees:\", employees.duplicated().sum())\n",
        "print(\"Number of duplicate records in Products:\", products.duplicated().sum())\n",
        "print(\"Number of duplicate records in Stores:\", stores.duplicated().sum())\n",
        "print(\"Number of duplicate records in Transactions:\", transactions.duplicated().sum())"
      ],
      "metadata": {
        "colab": {
          "base_uri": "https://localhost:8080/"
        },
        "id": "XSA9VqAf3iZH",
        "outputId": "63636d45-2b10-47c9-adf6-3e0133d51eb1"
      },
      "execution_count": null,
      "outputs": [
        {
          "output_type": "stream",
          "name": "stdout",
          "text": [
            "Number of duplicate records in Customers: 0\n",
            "Number of duplicate records in Discounts: 0\n",
            "Number of duplicate records in Employees: 0\n",
            "Number of duplicate records in Products: 0\n",
            "Number of duplicate records in Stores: 0\n",
            "Number of duplicate records in Transactions: 798\n"
          ]
        }
      ]
    },
    {
      "cell_type": "markdown",
      "source": [
        "Sometimes in the transactions there may be duplicate values in form of numbers.So those numbers can be ingnored sometimes becaause they may be quantity or unit cost which may sometimes be same across different products."
      ],
      "metadata": {
        "id": "YLKlqdH7gMnM"
      }
    },
    {
      "cell_type": "markdown",
      "source": [
        "Removing the duplicate values"
      ],
      "metadata": {
        "id": "6RSwtdm63xeh"
      }
    },
    {
      "cell_type": "code",
      "source": [
        "transactions = pd.read_csv(\"transactions.csv\")\n"
      ],
      "metadata": {
        "id": "WublY-0y4sFL"
      },
      "execution_count": null,
      "outputs": []
    },
    {
      "cell_type": "code",
      "source": [
        "# Verify the total count of duplicate rows\n",
        "duplicates = transactions[transactions.duplicated()]\n",
        "print(\"Total count of duplicate rows:\", len(duplicates))\n",
        "\n",
        "# Display a sample of duplicate rows\n",
        "display(duplicates.head())\n",
        "\n"
      ],
      "metadata": {
        "colab": {
          "base_uri": "https://localhost:8080/",
          "height": 434
        },
        "id": "aMcurKQP35L-",
        "outputId": "aa6f7637-8fa8-4862-88d7-fd7b65edc0a9"
      },
      "execution_count": null,
      "outputs": [
        {
          "output_type": "stream",
          "name": "stdout",
          "text": [
            "Total count of duplicate rows: 798\n"
          ]
        },
        {
          "output_type": "display_data",
          "data": {
            "text/plain": [
              "                Invoice ID  Line  Customer ID  Product ID Size    Color  \\\n",
              "1306   RET-US-001-03558990     1        45178        2602    L  MUSTARD   \n",
              "5967   RET-US-001-03562782     1        12413        1561    M    WHITE   \n",
              "7471   RET-US-001-03562412     1        26019        2104    M      NaN   \n",
              "10642  RET-US-001-03565682     1        36512        1523    M      NaN   \n",
              "11407  RET-US-001-03566036     1        84951         985    G    BEIGE   \n",
              "\n",
              "       Unit Price  Quantity                 Date  Discount  Line Total  \\\n",
              "1306         25.5         1  2023-01-01 00:00:00       0.0       -15.3   \n",
              "5967         35.0         1  2023-01-07 00:00:00       0.0       -21.0   \n",
              "7471         34.0         1  2023-01-08 00:00:00       0.0       -20.4   \n",
              "10642        22.5         1  2023-01-15 00:00:00       0.0       -22.5   \n",
              "11407        49.5         1  2023-01-16 00:00:00       0.0       -49.5   \n",
              "\n",
              "       Store ID  Employee ID Currency Currency Symbol                 SKU  \\\n",
              "1306          1           13      USD               $  FESW2602-L-MUSTARD   \n",
              "5967          1            7      USD               $    FECO1561-M-WHITE   \n",
              "7471          1           13      USD               $         CHSW2104-M-   \n",
              "10642         1           13      USD               $         MASH1523-M-   \n",
              "11407         1           10      USD               $     CHCO985-G-BEIGE   \n",
              "\n",
              "      Transaction Type Payment Method  Invoice Total  \n",
              "1306            Return    Credit Card          -15.3  \n",
              "5967            Return    Credit Card          -21.0  \n",
              "7471            Return           Cash          -20.4  \n",
              "10642           Return    Credit Card         -101.5  \n",
              "11407           Return           Cash          -49.5  "
            ],
            "text/html": [
              "\n",
              "  <div id=\"df-a76b0998-ac20-4897-afb9-a2a817946f8b\" class=\"colab-df-container\">\n",
              "    <div>\n",
              "<style scoped>\n",
              "    .dataframe tbody tr th:only-of-type {\n",
              "        vertical-align: middle;\n",
              "    }\n",
              "\n",
              "    .dataframe tbody tr th {\n",
              "        vertical-align: top;\n",
              "    }\n",
              "\n",
              "    .dataframe thead th {\n",
              "        text-align: right;\n",
              "    }\n",
              "</style>\n",
              "<table border=\"1\" class=\"dataframe\">\n",
              "  <thead>\n",
              "    <tr style=\"text-align: right;\">\n",
              "      <th></th>\n",
              "      <th>Invoice ID</th>\n",
              "      <th>Line</th>\n",
              "      <th>Customer ID</th>\n",
              "      <th>Product ID</th>\n",
              "      <th>Size</th>\n",
              "      <th>Color</th>\n",
              "      <th>Unit Price</th>\n",
              "      <th>Quantity</th>\n",
              "      <th>Date</th>\n",
              "      <th>Discount</th>\n",
              "      <th>Line Total</th>\n",
              "      <th>Store ID</th>\n",
              "      <th>Employee ID</th>\n",
              "      <th>Currency</th>\n",
              "      <th>Currency Symbol</th>\n",
              "      <th>SKU</th>\n",
              "      <th>Transaction Type</th>\n",
              "      <th>Payment Method</th>\n",
              "      <th>Invoice Total</th>\n",
              "    </tr>\n",
              "  </thead>\n",
              "  <tbody>\n",
              "    <tr>\n",
              "      <th>1306</th>\n",
              "      <td>RET-US-001-03558990</td>\n",
              "      <td>1</td>\n",
              "      <td>45178</td>\n",
              "      <td>2602</td>\n",
              "      <td>L</td>\n",
              "      <td>MUSTARD</td>\n",
              "      <td>25.5</td>\n",
              "      <td>1</td>\n",
              "      <td>2023-01-01 00:00:00</td>\n",
              "      <td>0.0</td>\n",
              "      <td>-15.3</td>\n",
              "      <td>1</td>\n",
              "      <td>13</td>\n",
              "      <td>USD</td>\n",
              "      <td>$</td>\n",
              "      <td>FESW2602-L-MUSTARD</td>\n",
              "      <td>Return</td>\n",
              "      <td>Credit Card</td>\n",
              "      <td>-15.3</td>\n",
              "    </tr>\n",
              "    <tr>\n",
              "      <th>5967</th>\n",
              "      <td>RET-US-001-03562782</td>\n",
              "      <td>1</td>\n",
              "      <td>12413</td>\n",
              "      <td>1561</td>\n",
              "      <td>M</td>\n",
              "      <td>WHITE</td>\n",
              "      <td>35.0</td>\n",
              "      <td>1</td>\n",
              "      <td>2023-01-07 00:00:00</td>\n",
              "      <td>0.0</td>\n",
              "      <td>-21.0</td>\n",
              "      <td>1</td>\n",
              "      <td>7</td>\n",
              "      <td>USD</td>\n",
              "      <td>$</td>\n",
              "      <td>FECO1561-M-WHITE</td>\n",
              "      <td>Return</td>\n",
              "      <td>Credit Card</td>\n",
              "      <td>-21.0</td>\n",
              "    </tr>\n",
              "    <tr>\n",
              "      <th>7471</th>\n",
              "      <td>RET-US-001-03562412</td>\n",
              "      <td>1</td>\n",
              "      <td>26019</td>\n",
              "      <td>2104</td>\n",
              "      <td>M</td>\n",
              "      <td>NaN</td>\n",
              "      <td>34.0</td>\n",
              "      <td>1</td>\n",
              "      <td>2023-01-08 00:00:00</td>\n",
              "      <td>0.0</td>\n",
              "      <td>-20.4</td>\n",
              "      <td>1</td>\n",
              "      <td>13</td>\n",
              "      <td>USD</td>\n",
              "      <td>$</td>\n",
              "      <td>CHSW2104-M-</td>\n",
              "      <td>Return</td>\n",
              "      <td>Cash</td>\n",
              "      <td>-20.4</td>\n",
              "    </tr>\n",
              "    <tr>\n",
              "      <th>10642</th>\n",
              "      <td>RET-US-001-03565682</td>\n",
              "      <td>1</td>\n",
              "      <td>36512</td>\n",
              "      <td>1523</td>\n",
              "      <td>M</td>\n",
              "      <td>NaN</td>\n",
              "      <td>22.5</td>\n",
              "      <td>1</td>\n",
              "      <td>2023-01-15 00:00:00</td>\n",
              "      <td>0.0</td>\n",
              "      <td>-22.5</td>\n",
              "      <td>1</td>\n",
              "      <td>13</td>\n",
              "      <td>USD</td>\n",
              "      <td>$</td>\n",
              "      <td>MASH1523-M-</td>\n",
              "      <td>Return</td>\n",
              "      <td>Credit Card</td>\n",
              "      <td>-101.5</td>\n",
              "    </tr>\n",
              "    <tr>\n",
              "      <th>11407</th>\n",
              "      <td>RET-US-001-03566036</td>\n",
              "      <td>1</td>\n",
              "      <td>84951</td>\n",
              "      <td>985</td>\n",
              "      <td>G</td>\n",
              "      <td>BEIGE</td>\n",
              "      <td>49.5</td>\n",
              "      <td>1</td>\n",
              "      <td>2023-01-16 00:00:00</td>\n",
              "      <td>0.0</td>\n",
              "      <td>-49.5</td>\n",
              "      <td>1</td>\n",
              "      <td>10</td>\n",
              "      <td>USD</td>\n",
              "      <td>$</td>\n",
              "      <td>CHCO985-G-BEIGE</td>\n",
              "      <td>Return</td>\n",
              "      <td>Cash</td>\n",
              "      <td>-49.5</td>\n",
              "    </tr>\n",
              "  </tbody>\n",
              "</table>\n",
              "</div>\n",
              "    <div class=\"colab-df-buttons\">\n",
              "\n",
              "  <div class=\"colab-df-container\">\n",
              "    <button class=\"colab-df-convert\" onclick=\"convertToInteractive('df-a76b0998-ac20-4897-afb9-a2a817946f8b')\"\n",
              "            title=\"Convert this dataframe to an interactive table.\"\n",
              "            style=\"display:none;\">\n",
              "\n",
              "  <svg xmlns=\"http://www.w3.org/2000/svg\" height=\"24px\" viewBox=\"0 -960 960 960\">\n",
              "    <path d=\"M120-120v-720h720v720H120Zm60-500h600v-160H180v160Zm220 220h160v-160H400v160Zm0 220h160v-160H400v160ZM180-400h160v-160H180v160Zm440 0h160v-160H620v160ZM180-180h160v-160H180v160Zm440 0h160v-160H620v160Z\"/>\n",
              "  </svg>\n",
              "    </button>\n",
              "\n",
              "  <style>\n",
              "    .colab-df-container {\n",
              "      display:flex;\n",
              "      gap: 12px;\n",
              "    }\n",
              "\n",
              "    .colab-df-convert {\n",
              "      background-color: #E8F0FE;\n",
              "      border: none;\n",
              "      border-radius: 50%;\n",
              "      cursor: pointer;\n",
              "      display: none;\n",
              "      fill: #1967D2;\n",
              "      height: 32px;\n",
              "      padding: 0 0 0 0;\n",
              "      width: 32px;\n",
              "    }\n",
              "\n",
              "    .colab-df-convert:hover {\n",
              "      background-color: #E2EBFA;\n",
              "      box-shadow: 0px 1px 2px rgba(60, 64, 67, 0.3), 0px 1px 3px 1px rgba(60, 64, 67, 0.15);\n",
              "      fill: #174EA6;\n",
              "    }\n",
              "\n",
              "    .colab-df-buttons div {\n",
              "      margin-bottom: 4px;\n",
              "    }\n",
              "\n",
              "    [theme=dark] .colab-df-convert {\n",
              "      background-color: #3B4455;\n",
              "      fill: #D2E3FC;\n",
              "    }\n",
              "\n",
              "    [theme=dark] .colab-df-convert:hover {\n",
              "      background-color: #434B5C;\n",
              "      box-shadow: 0px 1px 3px 1px rgba(0, 0, 0, 0.15);\n",
              "      filter: drop-shadow(0px 1px 2px rgba(0, 0, 0, 0.3));\n",
              "      fill: #FFFFFF;\n",
              "    }\n",
              "  </style>\n",
              "\n",
              "    <script>\n",
              "      const buttonEl =\n",
              "        document.querySelector('#df-a76b0998-ac20-4897-afb9-a2a817946f8b button.colab-df-convert');\n",
              "      buttonEl.style.display =\n",
              "        google.colab.kernel.accessAllowed ? 'block' : 'none';\n",
              "\n",
              "      async function convertToInteractive(key) {\n",
              "        const element = document.querySelector('#df-a76b0998-ac20-4897-afb9-a2a817946f8b');\n",
              "        const dataTable =\n",
              "          await google.colab.kernel.invokeFunction('convertToInteractive',\n",
              "                                                    [key], {});\n",
              "        if (!dataTable) return;\n",
              "\n",
              "        const docLinkHtml = 'Like what you see? Visit the ' +\n",
              "          '<a target=\"_blank\" href=https://colab.research.google.com/notebooks/data_table.ipynb>data table notebook</a>'\n",
              "          + ' to learn more about interactive tables.';\n",
              "        element.innerHTML = '';\n",
              "        dataTable['output_type'] = 'display_data';\n",
              "        await google.colab.output.renderOutput(dataTable, element);\n",
              "        const docLink = document.createElement('div');\n",
              "        docLink.innerHTML = docLinkHtml;\n",
              "        element.appendChild(docLink);\n",
              "      }\n",
              "    </script>\n",
              "  </div>\n",
              "\n",
              "\n",
              "    <div id=\"df-5b991668-af3f-4f3a-a31e-9a3d51e73c83\">\n",
              "      <button class=\"colab-df-quickchart\" onclick=\"quickchart('df-5b991668-af3f-4f3a-a31e-9a3d51e73c83')\"\n",
              "                title=\"Suggest charts\"\n",
              "                style=\"display:none;\">\n",
              "\n",
              "<svg xmlns=\"http://www.w3.org/2000/svg\" height=\"24px\"viewBox=\"0 0 24 24\"\n",
              "     width=\"24px\">\n",
              "    <g>\n",
              "        <path d=\"M19 3H5c-1.1 0-2 .9-2 2v14c0 1.1.9 2 2 2h14c1.1 0 2-.9 2-2V5c0-1.1-.9-2-2-2zM9 17H7v-7h2v7zm4 0h-2V7h2v10zm4 0h-2v-4h2v4z\"/>\n",
              "    </g>\n",
              "</svg>\n",
              "      </button>\n",
              "\n",
              "<style>\n",
              "  .colab-df-quickchart {\n",
              "      --bg-color: #E8F0FE;\n",
              "      --fill-color: #1967D2;\n",
              "      --hover-bg-color: #E2EBFA;\n",
              "      --hover-fill-color: #174EA6;\n",
              "      --disabled-fill-color: #AAA;\n",
              "      --disabled-bg-color: #DDD;\n",
              "  }\n",
              "\n",
              "  [theme=dark] .colab-df-quickchart {\n",
              "      --bg-color: #3B4455;\n",
              "      --fill-color: #D2E3FC;\n",
              "      --hover-bg-color: #434B5C;\n",
              "      --hover-fill-color: #FFFFFF;\n",
              "      --disabled-bg-color: #3B4455;\n",
              "      --disabled-fill-color: #666;\n",
              "  }\n",
              "\n",
              "  .colab-df-quickchart {\n",
              "    background-color: var(--bg-color);\n",
              "    border: none;\n",
              "    border-radius: 50%;\n",
              "    cursor: pointer;\n",
              "    display: none;\n",
              "    fill: var(--fill-color);\n",
              "    height: 32px;\n",
              "    padding: 0;\n",
              "    width: 32px;\n",
              "  }\n",
              "\n",
              "  .colab-df-quickchart:hover {\n",
              "    background-color: var(--hover-bg-color);\n",
              "    box-shadow: 0 1px 2px rgba(60, 64, 67, 0.3), 0 1px 3px 1px rgba(60, 64, 67, 0.15);\n",
              "    fill: var(--button-hover-fill-color);\n",
              "  }\n",
              "\n",
              "  .colab-df-quickchart-complete:disabled,\n",
              "  .colab-df-quickchart-complete:disabled:hover {\n",
              "    background-color: var(--disabled-bg-color);\n",
              "    fill: var(--disabled-fill-color);\n",
              "    box-shadow: none;\n",
              "  }\n",
              "\n",
              "  .colab-df-spinner {\n",
              "    border: 2px solid var(--fill-color);\n",
              "    border-color: transparent;\n",
              "    border-bottom-color: var(--fill-color);\n",
              "    animation:\n",
              "      spin 1s steps(1) infinite;\n",
              "  }\n",
              "\n",
              "  @keyframes spin {\n",
              "    0% {\n",
              "      border-color: transparent;\n",
              "      border-bottom-color: var(--fill-color);\n",
              "      border-left-color: var(--fill-color);\n",
              "    }\n",
              "    20% {\n",
              "      border-color: transparent;\n",
              "      border-left-color: var(--fill-color);\n",
              "      border-top-color: var(--fill-color);\n",
              "    }\n",
              "    30% {\n",
              "      border-color: transparent;\n",
              "      border-left-color: var(--fill-color);\n",
              "      border-top-color: var(--fill-color);\n",
              "      border-right-color: var(--fill-color);\n",
              "    }\n",
              "    40% {\n",
              "      border-color: transparent;\n",
              "      border-right-color: var(--fill-color);\n",
              "      border-top-color: var(--fill-color);\n",
              "    }\n",
              "    60% {\n",
              "      border-color: transparent;\n",
              "      border-right-color: var(--fill-color);\n",
              "    }\n",
              "    80% {\n",
              "      border-color: transparent;\n",
              "      border-right-color: var(--fill-color);\n",
              "      border-bottom-color: var(--fill-color);\n",
              "    }\n",
              "    90% {\n",
              "      border-color: transparent;\n",
              "      border-bottom-color: var(--fill-color);\n",
              "    }\n",
              "  }\n",
              "</style>\n",
              "\n",
              "      <script>\n",
              "        async function quickchart(key) {\n",
              "          const quickchartButtonEl =\n",
              "            document.querySelector('#' + key + ' button');\n",
              "          quickchartButtonEl.disabled = true;  // To prevent multiple clicks.\n",
              "          quickchartButtonEl.classList.add('colab-df-spinner');\n",
              "          try {\n",
              "            const charts = await google.colab.kernel.invokeFunction(\n",
              "                'suggestCharts', [key], {});\n",
              "          } catch (error) {\n",
              "            console.error('Error during call to suggestCharts:', error);\n",
              "          }\n",
              "          quickchartButtonEl.classList.remove('colab-df-spinner');\n",
              "          quickchartButtonEl.classList.add('colab-df-quickchart-complete');\n",
              "        }\n",
              "        (() => {\n",
              "          let quickchartButtonEl =\n",
              "            document.querySelector('#df-5b991668-af3f-4f3a-a31e-9a3d51e73c83 button');\n",
              "          quickchartButtonEl.style.display =\n",
              "            google.colab.kernel.accessAllowed ? 'block' : 'none';\n",
              "        })();\n",
              "      </script>\n",
              "    </div>\n",
              "\n",
              "    </div>\n",
              "  </div>\n"
            ],
            "application/vnd.google.colaboratory.intrinsic+json": {
              "type": "dataframe",
              "repr_error": "0"
            }
          },
          "metadata": {}
        }
      ]
    },
    {
      "cell_type": "markdown",
      "source": [
        "**Printing the Column names for all datasets to get to see what columns can be used in part of the code**"
      ],
      "metadata": {
        "id": "53oMwuTjgjg2"
      }
    },
    {
      "cell_type": "code",
      "source": [
        "# Displaying column names for each dataset\n",
        "print(\"Customers Dataset Columns:\\n\", customers.columns.tolist(), \"\\n\")\n",
        "print(\"Discounts Dataset Columns:\\n\", discounts.columns.tolist(), \"\\n\")\n",
        "print(\"Employees Dataset Columns:\\n\", employees.columns.tolist(), \"\\n\")\n",
        "print(\"Products Dataset Columns:\\n\", products.columns.tolist(), \"\\n\")\n",
        "print(\"Stores Dataset Columns:\\n\", stores.columns.tolist(), \"\\n\")\n",
        "print(\"Transactions Dataset Columns:\\n\", transactions.columns.tolist(), \"\\n\")\n",
        "\n",
        "\n"
      ],
      "metadata": {
        "colab": {
          "base_uri": "https://localhost:8080/"
        },
        "id": "Y2eeGx6aRAV0",
        "outputId": "01489ea4-3b0a-4bab-bed7-ed19ad57fec4"
      },
      "execution_count": null,
      "outputs": [
        {
          "output_type": "stream",
          "name": "stdout",
          "text": [
            "Customers Dataset Columns:\n",
            " ['Customer ID', 'Name', 'Email', 'Telephone', 'City', 'Country', 'Gender', 'Date Of Birth', 'Job Title'] \n",
            "\n",
            "Discounts Dataset Columns:\n",
            " ['Start', 'End', 'Discont', 'Description', 'Category', 'Sub Category'] \n",
            "\n",
            "Employees Dataset Columns:\n",
            " ['Employee ID', 'Store ID', 'Name', 'Position'] \n",
            "\n",
            "Products Dataset Columns:\n",
            " ['Product ID', 'Category', 'Sub Category', 'Description PT', 'Description DE', 'Description FR', 'Description ES', 'Description EN', 'Description ZH', 'Color', 'Sizes', 'Production Cost'] \n",
            "\n",
            "Stores Dataset Columns:\n",
            " ['Store ID', 'Country', 'City', 'Store Name', 'Number of Employees', 'ZIP Code', 'Latitude', 'Longitude'] \n",
            "\n",
            "Transactions Dataset Columns:\n",
            " ['Invoice ID', 'Line', 'Customer ID', 'Product ID', 'Size', 'Color', 'Unit Price', 'Quantity', 'Date', 'Discount', 'Line Total', 'Store ID', 'Employee ID', 'Currency', 'Currency Symbol', 'SKU', 'Transaction Type', 'Payment Method', 'Invoice Total'] \n",
            "\n"
          ]
        }
      ]
    },
    {
      "cell_type": "markdown",
      "source": [
        "**CONVERT DATES**"
      ],
      "metadata": {
        "id": "IHNm40rDqD83"
      }
    },
    {
      "cell_type": "code",
      "source": [
        "transactions['Date'] = pd.to_datetime(transactions['Date'])\n",
        "customers['Date Of Birth'] = pd.to_datetime(customers['Date Of Birth'])\n",
        "discounts['Start'] = pd.to_datetime(discounts['Start'])\n",
        "discounts['End'] = pd.to_datetime(discounts['End'])"
      ],
      "metadata": {
        "id": "VXoduA94RwcJ"
      },
      "execution_count": null,
      "outputs": []
    },
    {
      "cell_type": "markdown",
      "source": [
        "**STEP 5: Currency Normalization to USD**"
      ],
      "metadata": {
        "id": "gJhQ0ziqSo4d"
      }
    },
    {
      "cell_type": "code",
      "source": [
        "currency_rates = {'EUR': 1.1, 'GBP': 1.3, 'CNY': 0.13, 'USD': 1.0}\n",
        "\n",
        "transactions['Unit Price (USD)'] = transactions.apply(\n",
        "    lambda x: x['Unit Price'] * currency_rates.get(x['Currency'], 1), axis=1\n",
        ")\n"
      ],
      "metadata": {
        "id": "6A8KEDo1SnNI"
      },
      "execution_count": null,
      "outputs": []
    },
    {
      "cell_type": "markdown",
      "source": [
        "**It Tells Us About:**\n",
        "We know Zara operates in multiple countries, so transactions can be recorded in different currencies.\n",
        "\n",
        "This step makes sure that  unit prices are normalized to a single currency (USD) in my case as a standard for easy financial analysis.\n",
        "\n",
        "Without this, gross margin calculations would be inaccurate or misleading because of currency mismatches"
      ],
      "metadata": {
        "id": "pZF_wxIAhW_y"
      }
    },
    {
      "cell_type": "markdown",
      "source": [
        "**STEP 6: Calculate Gross Margin**"
      ],
      "metadata": {
        "id": "_HesucMqTJM0"
      }
    },
    {
      "cell_type": "code",
      "source": [
        "# Merge transactions data with product data to obtain Production Cost information\n",
        "merged = transactions.merge(products[['Product ID', 'Production Cost']], on='Product ID', how='left')\n",
        "\n",
        "# Calculate Revenue, Production Cost, and Gross Margin\n",
        "merged['Revenue'] = merged['Unit Price (USD)'] * merged['Quantity'] * (1 - merged['Discount'])\n",
        "merged['Prod_Cost_Total'] = merged['Production Cost'] * merged['Quantity']\n",
        "merged['Gross Margin'] = merged['Revenue'] - merged['Prod_Cost_Total']"
      ],
      "metadata": {
        "id": "odyO7oBdSgUv"
      },
      "execution_count": null,
      "outputs": []
    },
    {
      "cell_type": "markdown",
      "source": [
        "This is the core calculation of Zara's profitability: How much money is left after covering production costs?\n",
        "\n",
        "By also including discounts, it shows how price reductions directly affect revenue and thus impact gross margins.\n",
        "This setup enables detailed profit analysis by product, region, or time."
      ],
      "metadata": {
        "id": "FGapKgefh-lY"
      }
    },
    {
      "cell_type": "markdown",
      "source": [
        "** STEP 7: Exploratory Data Analysis (EDA)**"
      ],
      "metadata": {
        "id": "8vlwXCZETVgk"
      }
    },
    {
      "cell_type": "markdown",
      "source": [
        "a. Gross Margin by Category"
      ],
      "metadata": {
        "id": "jaLyETmzTiOh"
      }
    },
    {
      "cell_type": "code",
      "source": [
        "merged = merged.merge(products[['Product ID', 'Category', 'Sub Category']], on='Product ID', how='left')\n",
        "category_margin = merged.groupby('Category')['Gross Margin'].sum().sort_values(ascending=False)\n",
        "\n",
        "plt.figure(figsize=(8,5))\n",
        "sns.barplot(x=category_margin.index, y=category_margin.values)\n",
        "plt.title(\"Gross Margin by Product Category\")\n",
        "plt.ylabel(\"Total Gross Margin (USD)\")\n",
        "plt.xticks(rotation=45)\n",
        "plt.show()"
      ],
      "metadata": {
        "colab": {
          "base_uri": "https://localhost:8080/",
          "height": 532
        },
        "id": "k_YF3smCTe9i",
        "outputId": "005bc2bd-d143-4550-efb8-a0fadde56bca"
      },
      "execution_count": null,
      "outputs": [
        {
          "output_type": "display_data",
          "data": {
            "text/plain": [
              "<Figure size 800x500 with 1 Axes>"
            ],
            "image/png": "[encoded data removed]"
          },
          "metadata": {}
        }
      ]
    },
    {
      "cell_type": "markdown",
      "source": [
        "**It Tells Us:**\n",
        "Top-Earning Categories: Clearly identifies which categories  are the most profitable.\n",
        "\n",
        "Strategic Focus: Helps Zara focus marketing, stock, and pricing strategies on the categories that drive the most revenue.\n",
        "It shows that the feminine category is contributing the most towards the gross margin than other ones.\n",
        "Profit Distribution: Reveals whether profits are concentrated in a few categories or spread evenly.\n"
      ],
      "metadata": {
        "id": "8OfkaD8oiqdx"
      }
    },
    {
      "cell_type": "markdown",
      "source": [
        "**b. Gross Margin by Country**"
      ],
      "metadata": {
        "id": "leZ2l4CxTq3E"
      }
    },
    {
      "cell_type": "code",
      "source": [
        "merged = merged.merge(stores[['Store ID', 'Country']], on='Store ID', how='left')\n",
        "country_gross_margin = merged.groupby('Country')['Gross Margin'].sum().sort_values(ascending=False)\n",
        "\n",
        "plt.figure(figsize=(10,6))\n",
        "sns.barplot(x=country_gross_margin.values, y=country_gross_margin.index)\n",
        "plt.title(\"Gross Margin by Country\")\n",
        "plt.xlabel(\"Gross Margin (USD)\")\n",
        "plt.show()"
      ],
      "metadata": {
        "colab": {
          "base_uri": "https://localhost:8080/",
          "height": 633
        },
        "id": "BTAsp5gCTwTZ",
        "outputId": "093e5b38-a838-4412-a7da-bcfc24a72a6e"
      },
      "execution_count": null,
      "outputs": [
        {
          "output_type": "stream",
          "name": "stderr",
          "text": [
            "/usr/local/lib/python3.11/dist-packages/IPython/core/pylabtools.py:151: UserWarning: Glyph 20013 (\\N{CJK UNIFIED IDEOGRAPH-4E2D}) missing from font(s) DejaVu Sans.\n",
            "  fig.canvas.print_figure(bytes_io, **kw)\n",
            "/usr/local/lib/python3.11/dist-packages/IPython/core/pylabtools.py:151: UserWarning: Glyph 22269 (\\N{CJK UNIFIED IDEOGRAPH-56FD}) missing from font(s) DejaVu Sans.\n",
            "  fig.canvas.print_figure(bytes_io, **kw)\n"
          ]
        },
        {
          "output_type": "display_data",
          "data": {
            "text/plain": [
              "<Figure size 1000x600 with 1 Axes>"
            ],
            "image/png": "[encoded data removed]"
          },
          "metadata": {}
        }
      ]
    },
    {
      "cell_type": "markdown",
      "source": [
        "The above one tells about the gross margin between different countries and also which country is more profitable when compared to others"
      ],
      "metadata": {
        "id": "7hRm-11ni4lM"
      }
    },
    {
      "cell_type": "markdown",
      "source": [
        "**Top 10 Selling Products by Quantity And their Product Id's**"
      ],
      "metadata": {
        "id": "R8vfS7x4V964"
      }
    },
    {
      "cell_type": "code",
      "source": [
        "top_products = transactions.groupby('Product ID')['Quantity'].sum().sort_values(ascending=False).head(10)\n",
        "top_products.plot(kind='bar', figsize=(10, 5), title='Top 10 Products Sold by Quantity')\n",
        "plt.xlabel(\"Product ID\")\n",
        "plt.ylabel(\"Total Quantity Sold\")\n",
        "plt.tight_layout()\n",
        "plt.show()"
      ],
      "metadata": {
        "colab": {
          "base_uri": "https://localhost:8080/",
          "height": 507
        },
        "id": "oUZ5_F7-WBsY",
        "outputId": "6f3a0ddb-875d-45e9-8445-b4ead50de39f"
      },
      "execution_count": null,
      "outputs": [
        {
          "output_type": "display_data",
          "data": {
            "text/plain": [
              "<Figure size 1000x500 with 1 Axes>"
            ],
            "image/png": "[encoded data removed]"
          },
          "metadata": {}
        }
      ]
    },
    {
      "cell_type": "markdown",
      "source": [
        "Identifies Zara’s bestsellers helps understand which product lines drive revenue. If a high-selling product also has a low production cost, it contributes positively to the gross margin. Zara can focus on promoting these further or explore similar product variants."
      ],
      "metadata": {
        "id": "TBOHTxF5WL8o"
      }
    },
    {
      "cell_type": "markdown",
      "source": [
        "**Product Category Distribution**"
      ],
      "metadata": {
        "id": "mhw-R5ENWUJp"
      }
    },
    {
      "cell_type": "code",
      "source": [
        "merged = pd.merge(transactions, products, on='Product ID')\n",
        "category_values = merged['Category'].value_counts()\n",
        "\n",
        "category_values.plot(kind='pie', autopct='%1.1f%%', figsize=(6, 6), title='Distribution of Product Categories')\n",
        "plt.ylabel(\"\")\n",
        "plt.show()\n"
      ],
      "metadata": {
        "colab": {
          "base_uri": "https://localhost:8080/",
          "height": 521
        },
        "id": "SFGTkbp3WaBp",
        "outputId": "87b3586f-6c2b-44d7-b6d3-4509b26e6272"
      },
      "execution_count": null,
      "outputs": [
        {
          "output_type": "display_data",
          "data": {
            "text/plain": [
              "<Figure size 600x600 with 1 Axes>"
            ],
            "image/png": "[encoded data removed]"
          },
          "metadata": {}
        }
      ]
    },
    {
      "cell_type": "markdown",
      "source": [
        "\n",
        "Here we are understanding which categories dominate sales helps Zara align inventory and production budgets with customer preferences. It also highlights whether certain segments are overrepresented or underrepresented, influencing marketing and stocking decisions."
      ],
      "metadata": {
        "id": "x3Cc5id3Wwrd"
      }
    },
    {
      "cell_type": "markdown",
      "source": [
        "**Number of Employees per Store**:\n",
        "Basic info on no of employees present in first 5 stores"
      ],
      "metadata": {
        "id": "Zl2TVecFneC6"
      }
    },
    {
      "cell_type": "code",
      "source": [
        "store_employees_count = employees.groupby('Store ID')['Employee ID'].count().reset_index()\n",
        "store_employees_count.columns = ['Store ID', 'Total Employees']\n",
        "print(store_employees_count.head())\n"
      ],
      "metadata": {
        "colab": {
          "base_uri": "https://localhost:8080/"
        },
        "id": "M4nBe8Uinmj6",
        "outputId": "c1b46e3c-23e9-4414-c8d4-4a3b5ab1a646"
      },
      "execution_count": null,
      "outputs": [
        {
          "output_type": "stream",
          "name": "stdout",
          "text": [
            "   Store ID  Total Employees\n",
            "0         1               13\n",
            "1         2               11\n",
            "2         3               12\n",
            "3         4               13\n",
            "4         5               12\n"
          ]
        }
      ]
    },
    {
      "cell_type": "markdown",
      "source": [
        "**Unit Price vs Quantity Sold**"
      ],
      "metadata": {
        "id": "ksu9VLoSXLhI"
      }
    },
    {
      "cell_type": "code",
      "source": [
        "# Filter transactions for unit price less than 1000 and quantity less than 100\n",
        "filtered_transactions = transactions[(transactions['Unit Price'] < 1000) & (transactions['Quantity'] < 100)]\n",
        "\n",
        "# Create a scatter plot\n",
        "plt.figure(figsize=(10, 6))\n",
        "plt.scatter(filtered_transactions['Unit Price'], filtered_transactions['Quantity'], alpha=0.5)\n",
        "plt.title('Unit Price vs Quantity Sold')\n",
        "plt.xlabel('Unit Price')\n",
        "plt.ylabel('Quantity Sold')\n",
        "plt.grid(True)\n",
        "plt.show()"
      ],
      "metadata": {
        "colab": {
          "base_uri": "https://localhost:8080/",
          "height": 564
        },
        "id": "bDndy3_UXJY-",
        "outputId": "80b5d914-f32f-425b-e417-e4f39f89422b"
      },
      "execution_count": null,
      "outputs": [
        {
          "output_type": "display_data",
          "data": {
            "text/plain": [
              "<Figure size 1000x600 with 1 Axes>"
            ],
            "image/png": "[encoded data removed]"
          },
          "metadata": {}
        }
      ]
    },
    {
      "cell_type": "markdown",
      "source": [
        "The above data tells us about the products(in quantity) sold and their unit prices .It shows us the comparisions through the above one"
      ],
      "metadata": {
        "id": "uTHkUFVLuMIL"
      }
    },
    {
      "cell_type": "markdown",
      "source": [
        "**Plotly Installation:**\n",
        "Installing plotly library so that we can get geographic maps and the revenues based on the countries"
      ],
      "metadata": {
        "id": "R7MClN7hUGCf"
      }
    },
    {
      "cell_type": "code",
      "source": [
        "!pip install plotly"
      ],
      "metadata": {
        "colab": {
          "base_uri": "https://localhost:8080/"
        },
        "id": "YlTGZpDzX17C",
        "outputId": "663137e5-9dcb-4c3d-f665-c9293b2fb82d"
      },
      "execution_count": null,
      "outputs": [
        {
          "output_type": "stream",
          "name": "stdout",
          "text": [
            "Requirement already satisfied: plotly in /usr/local/lib/python3.11/dist-packages (5.24.1)\n",
            "Requirement already satisfied: tenacity>=6.2.0 in /usr/local/lib/python3.11/dist-packages (from plotly) (9.1.2)\n",
            "Requirement already satisfied: packaging in /usr/local/lib/python3.11/dist-packages (from plotly) (24.2)\n"
          ]
        }
      ]
    },
    {
      "cell_type": "markdown",
      "source": [
        "**Revenue by Country **:Revenues of different countries through the help of plotly library"
      ],
      "metadata": {
        "id": "Fp5e_IBHX43r"
      }
    },
    {
      "cell_type": "code",
      "source": [
        "# STEP 1: Install Plotly\n",
        "!pip install plotly\n",
        "\n",
        "# STEP 2: Import Libraries\n",
        "import pandas as pd\n",
        "import plotly.express as px\n",
        "\n",
        "# STEP 3: Load Data\n",
        "# Assuming you already have these DataFrames from previous steps\n",
        "# transactions.csv and stores.csv must be merged\n",
        "# If not loaded yet, use:\n",
        "# transactions = pd.read_csv(\"transactions_dataset.csv\")\n",
        "# stores = pd.read_csv(\"stores_dataset.csv\")\n",
        "\n",
        "# STEP 4: Merge transactions with stores to get country info\n",
        "merged_data = transactions.merge(stores, on='Store ID')\n",
        "\n",
        "# STEP 5: Group by Country and Calculate Revenue (Line Total)\n",
        "country_revenue = merged_data.groupby('Country')['Line Total'].sum().reset_index()\n",
        "country_revenue.columns = ['Country', 'Total Revenue']\n",
        "\n",
        "# STEP 6: Plot Geo Chart\n",
        "fig = px.choropleth(\n",
        "    country_revenue,\n",
        "    locations='Country',\n",
        "    locationmode='country names',  # Match country names\n",
        "    color='Total Revenue',\n",
        "    hover_name='Country',\n",
        "    color_continuous_scale='Viridis',\n",
        "    title='Zara Revenue by Country'\n",
        ")\n",
        "\n",
        "# Optional: clean map visuals\n",
        "fig.update_geos(fitbounds=\"locations\", visible=False)\n",
        "\n",
        "# STEP 7: Show Chart\n",
        "fig.show()\n",
        "\n",
        "\n"
      ],
      "metadata": {
        "colab": {
          "base_uri": "https://localhost:8080/",
          "height": 594
        },
        "id": "Ui2oMbHSYBjZ",
        "outputId": "e2d63356-4410-4ce3-d06a-a7bf311a78b4"
      },
      "execution_count": null,
      "outputs": [
        {
          "output_type": "stream",
          "name": "stdout",
          "text": [
            "Requirement already satisfied: plotly in /usr/local/lib/python3.11/dist-packages (5.24.1)\n",
            "Requirement already satisfied: tenacity>=6.2.0 in /usr/local/lib/python3.11/dist-packages (from plotly) (9.1.2)\n",
            "Requirement already satisfied: packaging in /usr/local/lib/python3.11/dist-packages (from plotly) (24.2)\n"
          ]
        },
        {
          "output_type": "display_data",
          "data": {
            "text/html": [
              "<html>\n",
              "<head><meta charset=\"utf-8\" /></head>\n",
              "<body>\n",
              "    <div>            <script src=\"https://cdnjs.cloudflare.com/ajax/libs/mathjax/2.7.5/MathJax.js?config=TeX-AMS-MML_SVG\"></script><script type=\"text/javascript\">if (window.MathJax && window.MathJax.Hub && window.MathJax.Hub.Config) {window.MathJax.Hub.Config({SVG: {font: \"STIX-Web\"}});}</script>                <script type=\"text/javascript\">window.PlotlyConfig = {MathJaxConfig: 'local'};</script>\n",
              "        <script charset=\"utf-8\" src=\"https://cdn.plot.ly/plotly-2.35.2.min.js\"></script>                <div id=\"3ca24bb9-b899-47aa-ab88-79558fad7daf\" class=\"plotly-graph-div\" style=\"height:525px; width:100%;\"></div>            <script type=\"text/javascript\">                                    window.PLOTLYENV=window.PLOTLYENV || {};                                    if (document.getElementById(\"3ca24bb9-b899-47aa-ab88-79558fad7daf\")) {                    Plotly.newPlot(                        \"3ca24bb9-b899-47aa-ab88-79558fad7daf\",                        [{\"coloraxis\":\"coloraxis\",\"geo\":\"geo\",\"hovertemplate\":\"\\u003cb\\u003e%{hovertext}\\u003c\\u002fb\\u003e\\u003cbr\\u003e\\u003cbr\\u003eCountry=%{location}\\u003cbr\\u003eTotal Revenue=%{z}\\u003cextra\\u003e\\u003c\\u002fextra\\u003e\",\"hovertext\":[\"Deutschland\",\"España\",\"France\",\"Portugal\",\"United Kingdom\",\"United States\",\"中国\"],\"locationmode\":\"country names\",\"locations\":[\"Deutschland\",\"España\",\"France\",\"Portugal\",\"United Kingdom\",\"United States\",\"中国\"],\"name\":\"\",\"z\":[29842670.41,22878360.15,25838685.73,23223036.14,17399354.45,75023511.7,538539256.41],\"type\":\"choropleth\"}],                        {\"template\":{\"data\":{\"histogram2dcontour\":[{\"type\":\"histogram2dcontour\",\"colorbar\":{\"outlinewidth\":0,\"ticks\":\"\"},\"colorscale\":[[0.0,\"#0d0887\"],[0.1111111111111111,\"#46039f\"],[0.2222222222222222,\"#7201a8\"],[0.3333333333333333,\"#9c179e\"],[0.4444444444444444,\"#bd3786\"],[0.5555555555555556,\"#d8576b\"],[0.6666666666666666,\"#ed7953\"],[0.7777777777777778,\"#fb9f3a\"],[0.8888888888888888,\"#fdca26\"],[1.0,\"#f0f921\"]]}],\"choropleth\":[{\"type\":\"choropleth\",\"colorbar\":{\"outlinewidth\":0,\"ticks\":\"\"}}],\"histogram2d\":[{\"type\":\"histogram2d\",\"colorbar\":{\"outlinewidth\":0,\"ticks\":\"\"},\"colorscale\":[[0.0,\"#0d0887\"],[0.1111111111111111,\"#46039f\"],[0.2222222222222222,\"#7201a8\"],[0.3333333333333333,\"#9c179e\"],[0.4444444444444444,\"#bd3786\"],[0.5555555555555556,\"#d8576b\"],[0.6666666666666666,\"#ed7953\"],[0.7777777777777778,\"#fb9f3a\"],[0.8888888888888888,\"#fdca26\"],[1.0,\"#f0f921\"]]}],\"heatmap\":[{\"type\":\"heatmap\",\"colorbar\":{\"outlinewidth\":0,\"ticks\":\"\"},\"colorscale\":[[0.0,\"#0d0887\"],[0.1111111111111111,\"#46039f\"],[0.2222222222222222,\"#7201a8\"],[0.3333333333333333,\"#9c179e\"],[0.4444444444444444,\"#bd3786\"],[0.5555555555555556,\"#d8576b\"],[0.6666666666666666,\"#ed7953\"],[0.7777777777777778,\"#fb9f3a\"],[0.8888888888888888,\"#fdca26\"],[1.0,\"#f0f921\"]]}],\"heatmapgl\":[{\"type\":\"heatmapgl\",\"colorbar\":{\"outlinewidth\":0,\"ticks\":\"\"},\"colorscale\":[[0.0,\"#0d0887\"],[0.1111111111111111,\"#46039f\"],[0.2222222222222222,\"#7201a8\"],[0.3333333333333333,\"#9c179e\"],[0.4444444444444444,\"#bd3786\"],[0.5555555555555556,\"#d8576b\"],[0.6666666666666666,\"#ed7953\"],[0.7777777777777778,\"#fb9f3a\"],[0.8888888888888888,\"#fdca26\"],[1.0,\"#f0f921\"]]}],\"contourcarpet\":[{\"type\":\"contourcarpet\",\"colorbar\":{\"outlinewidth\":0,\"ticks\":\"\"}}],\"contour\":[{\"type\":\"contour\",\"colorbar\":{\"outlinewidth\":0,\"ticks\":\"\"},\"colorscale\":[[0.0,\"#0d0887\"],[0.1111111111111111,\"#46039f\"],[0.2222222222222222,\"#7201a8\"],[0.3333333333333333,\"#9c179e\"],[0.4444444444444444,\"#bd3786\"],[0.5555555555555556,\"#d8576b\"],[0.6666666666666666,\"#ed7953\"],[0.7777777777777778,\"#fb9f3a\"],[0.8888888888888888,\"#fdca26\"],[1.0,\"#f0f921\"]]}],\"surface\":[{\"type\":\"surface\",\"colorbar\":{\"outlinewidth\":0,\"ticks\":\"\"},\"colorscale\":[[0.0,\"#0d0887\"],[0.1111111111111111,\"#46039f\"],[0.2222222222222222,\"#7201a8\"],[0.3333333333333333,\"#9c179e\"],[0.4444444444444444,\"#bd3786\"],[0.5555555555555556,\"#d8576b\"],[0.6666666666666666,\"#ed7953\"],[0.7777777777777778,\"#fb9f3a\"],[0.8888888888888888,\"#fdca26\"],[1.0,\"#f0f921\"]]}],\"mesh3d\":[{\"type\":\"mesh3d\",\"colorbar\":{\"outlinewidth\":0,\"ticks\":\"\"}}],\"scatter\":[{\"fillpattern\":{\"fillmode\":\"overlay\",\"size\":10,\"solidity\":0.2},\"type\":\"scatter\"}],\"parcoords\":[{\"type\":\"parcoords\",\"line\":{\"colorbar\":{\"outlinewidth\":0,\"ticks\":\"\"}}}],\"scatterpolargl\":[{\"type\":\"scatterpolargl\",\"marker\":{\"colorbar\":{\"outlinewidth\":0,\"ticks\":\"\"}}}],\"bar\":[{\"error_x\":{\"color\":\"#2a3f5f\"},\"error_y\":{\"color\":\"#2a3f5f\"},\"marker\":{\"line\":{\"color\":\"#E5ECF6\",\"width\":0.5},\"pattern\":{\"fillmode\":\"overlay\",\"size\":10,\"solidity\":0.2}},\"type\":\"bar\"}],\"scattergeo\":[{\"type\":\"scattergeo\",\"marker\":{\"colorbar\":{\"outlinewidth\":0,\"ticks\":\"\"}}}],\"scatterpolar\":[{\"type\":\"scatterpolar\",\"marker\":{\"colorbar\":{\"outlinewidth\":0,\"ticks\":\"\"}}}],\"histogram\":[{\"marker\":{\"pattern\":{\"fillmode\":\"overlay\",\"size\":10,\"solidity\":0.2}},\"type\":\"histogram\"}],\"scattergl\":[{\"type\":\"scattergl\",\"marker\":{\"colorbar\":{\"outlinewidth\":0,\"ticks\":\"\"}}}],\"scatter3d\":[{\"type\":\"scatter3d\",\"line\":{\"colorbar\":{\"outlinewidth\":0,\"ticks\":\"\"}},\"marker\":{\"colorbar\":{\"outlinewidth\":0,\"ticks\":\"\"}}}],\"scattermapbox\":[{\"type\":\"scattermapbox\",\"marker\":{\"colorbar\":{\"outlinewidth\":0,\"ticks\":\"\"}}}],\"scatterternary\":[{\"type\":\"scatterternary\",\"marker\":{\"colorbar\":{\"outlinewidth\":0,\"ticks\":\"\"}}}],\"scattercarpet\":[{\"type\":\"scattercarpet\",\"marker\":{\"colorbar\":{\"outlinewidth\":0,\"ticks\":\"\"}}}],\"carpet\":[{\"aaxis\":{\"endlinecolor\":\"#2a3f5f\",\"gridcolor\":\"white\",\"linecolor\":\"white\",\"minorgridcolor\":\"white\",\"startlinecolor\":\"#2a3f5f\"},\"baxis\":{\"endlinecolor\":\"#2a3f5f\",\"gridcolor\":\"white\",\"linecolor\":\"white\",\"minorgridcolor\":\"white\",\"startlinecolor\":\"#2a3f5f\"},\"type\":\"carpet\"}],\"table\":[{\"cells\":{\"fill\":{\"color\":\"#EBF0F8\"},\"line\":{\"color\":\"white\"}},\"header\":{\"fill\":{\"color\":\"#C8D4E3\"},\"line\":{\"color\":\"white\"}},\"type\":\"table\"}],\"barpolar\":[{\"marker\":{\"line\":{\"color\":\"#E5ECF6\",\"width\":0.5},\"pattern\":{\"fillmode\":\"overlay\",\"size\":10,\"solidity\":0.2}},\"type\":\"barpolar\"}],\"pie\":[{\"automargin\":true,\"type\":\"pie\"}]},\"layout\":{\"autotypenumbers\":\"strict\",\"colorway\":[\"#636efa\",\"#EF553B\",\"#00cc96\",\"#ab63fa\",\"#FFA15A\",\"#19d3f3\",\"#FF6692\",\"#B6E880\",\"#FF97FF\",\"#FECB52\"],\"font\":{\"color\":\"#2a3f5f\"},\"hovermode\":\"closest\",\"hoverlabel\":{\"align\":\"left\"},\"paper_bgcolor\":\"white\",\"plot_bgcolor\":\"#E5ECF6\",\"polar\":{\"bgcolor\":\"#E5ECF6\",\"angularaxis\":{\"gridcolor\":\"white\",\"linecolor\":\"white\",\"ticks\":\"\"},\"radialaxis\":{\"gridcolor\":\"white\",\"linecolor\":\"white\",\"ticks\":\"\"}},\"ternary\":{\"bgcolor\":\"#E5ECF6\",\"aaxis\":{\"gridcolor\":\"white\",\"linecolor\":\"white\",\"ticks\":\"\"},\"baxis\":{\"gridcolor\":\"white\",\"linecolor\":\"white\",\"ticks\":\"\"},\"caxis\":{\"gridcolor\":\"white\",\"linecolor\":\"white\",\"ticks\":\"\"}},\"coloraxis\":{\"colorbar\":{\"outlinewidth\":0,\"ticks\":\"\"}},\"colorscale\":{\"sequential\":[[0.0,\"#0d0887\"],[0.1111111111111111,\"#46039f\"],[0.2222222222222222,\"#7201a8\"],[0.3333333333333333,\"#9c179e\"],[0.4444444444444444,\"#bd3786\"],[0.5555555555555556,\"#d8576b\"],[0.6666666666666666,\"#ed7953\"],[0.7777777777777778,\"#fb9f3a\"],[0.8888888888888888,\"#fdca26\"],[1.0,\"#f0f921\"]],\"sequentialminus\":[[0.0,\"#0d0887\"],[0.1111111111111111,\"#46039f\"],[0.2222222222222222,\"#7201a8\"],[0.3333333333333333,\"#9c179e\"],[0.4444444444444444,\"#bd3786\"],[0.5555555555555556,\"#d8576b\"],[0.6666666666666666,\"#ed7953\"],[0.7777777777777778,\"#fb9f3a\"],[0.8888888888888888,\"#fdca26\"],[1.0,\"#f0f921\"]],\"diverging\":[[0,\"#8e0152\"],[0.1,\"#c51b7d\"],[0.2,\"#de77ae\"],[0.3,\"#f1b6da\"],[0.4,\"#fde0ef\"],[0.5,\"#f7f7f7\"],[0.6,\"#e6f5d0\"],[0.7,\"#b8e186\"],[0.8,\"#7fbc41\"],[0.9,\"#4d9221\"],[1,\"#276419\"]]},\"xaxis\":{\"gridcolor\":\"white\",\"linecolor\":\"white\",\"ticks\":\"\",\"title\":{\"standoff\":15},\"zerolinecolor\":\"white\",\"automargin\":true,\"zerolinewidth\":2},\"yaxis\":{\"gridcolor\":\"white\",\"linecolor\":\"white\",\"ticks\":\"\",\"title\":{\"standoff\":15},\"zerolinecolor\":\"white\",\"automargin\":true,\"zerolinewidth\":2},\"scene\":{\"xaxis\":{\"backgroundcolor\":\"#E5ECF6\",\"gridcolor\":\"white\",\"linecolor\":\"white\",\"showbackground\":true,\"ticks\":\"\",\"zerolinecolor\":\"white\",\"gridwidth\":2},\"yaxis\":{\"backgroundcolor\":\"#E5ECF6\",\"gridcolor\":\"white\",\"linecolor\":\"white\",\"showbackground\":true,\"ticks\":\"\",\"zerolinecolor\":\"white\",\"gridwidth\":2},\"zaxis\":{\"backgroundcolor\":\"#E5ECF6\",\"gridcolor\":\"white\",\"linecolor\":\"white\",\"showbackground\":true,\"ticks\":\"\",\"zerolinecolor\":\"white\",\"gridwidth\":2}},\"shapedefaults\":{\"line\":{\"color\":\"#2a3f5f\"}},\"annotationdefaults\":{\"arrowcolor\":\"#2a3f5f\",\"arrowhead\":0,\"arrowwidth\":1},\"geo\":{\"bgcolor\":\"white\",\"landcolor\":\"#E5ECF6\",\"subunitcolor\":\"white\",\"showland\":true,\"showlakes\":true,\"lakecolor\":\"white\"},\"title\":{\"x\":0.05},\"mapbox\":{\"style\":\"light\"}}},\"geo\":{\"domain\":{\"x\":[0.0,1.0],\"y\":[0.0,1.0]},\"center\":{},\"fitbounds\":\"locations\",\"visible\":false},\"coloraxis\":{\"colorbar\":{\"title\":{\"text\":\"Total Revenue\"}},\"colorscale\":[[0.0,\"#440154\"],[0.1111111111111111,\"#482878\"],[0.2222222222222222,\"#3e4989\"],[0.3333333333333333,\"#31688e\"],[0.4444444444444444,\"#26828e\"],[0.5555555555555556,\"#1f9e89\"],[0.6666666666666666,\"#35b779\"],[0.7777777777777778,\"#6ece58\"],[0.8888888888888888,\"#b5de2b\"],[1.0,\"#fde725\"]]},\"legend\":{\"tracegroupgap\":0},\"title\":{\"text\":\"Zara Revenue by Country\"}},                        {\"responsive\": true}                    ).then(function(){\n",
              "                            \n",
              "var gd = document.getElementById('3ca24bb9-b899-47aa-ab88-79558fad7daf');\n",
              "var x = new MutationObserver(function (mutations, observer) {{\n",
              "        var display = window.getComputedStyle(gd).display;\n",
              "        if (!display || display === 'none') {{\n",
              "            console.log([gd, 'removed!']);\n",
              "            Plotly.purge(gd);\n",
              "            observer.disconnect();\n",
              "        }}\n",
              "}});\n",
              "\n",
              "// Listen for the removal of the full notebook cells\n",
              "var notebookContainer = gd.closest('#notebook-container');\n",
              "if (notebookContainer) {{\n",
              "    x.observe(notebookContainer, {childList: true});\n",
              "}}\n",
              "\n",
              "// Listen for the clearing of the current output cell\n",
              "var outputEl = gd.closest('.output');\n",
              "if (outputEl) {{\n",
              "    x.observe(outputEl, {childList: true});\n",
              "}}\n",
              "\n",
              "                        })                };                            </script>        </div>\n",
              "</body>\n",
              "</html>"
            ]
          },
          "metadata": {}
        }
      ]
    },
    {
      "cell_type": "markdown",
      "source": [
        "The above geomap tells us about the revenue across different countries"
      ],
      "metadata": {
        "id": "SeKJoQrcX-gt"
      }
    },
    {
      "cell_type": "markdown",
      "source": [
        "**📊 STEP 8: Time-Based Trend Analysis**"
      ],
      "metadata": {
        "id": "ZpY9uvfwT56L"
      }
    },
    {
      "cell_type": "code",
      "source": [
        "import pandas as pd\n",
        "import matplotlib.pyplot as plt\n",
        "\n",
        "transactions = pd.read_csv(\"transactions.csv\")\n",
        "products = pd.read_csv(\"products.csv\")\n",
        "\n",
        "merged = transactions.merge(products[['Product ID', 'Production Cost']], on='Product ID', how='left')\n",
        "merged['Gross Margin'] = (merged['Unit Price'] - merged['Production Cost']) * merged['Quantity']\n",
        "\n",
        "merged['Date'] = pd.to_datetime(merged['Date'])\n",
        "merged['Month'] = merged['Date'].dt.to_period('M')\n",
        "\n",
        "monthly_margin = merged.groupby('Month')['Gross Margin'].sum()\n",
        "\n",
        "monthly_margin.plot(kind='line', marker='o', title='Gross Margin Over Time', figsize=(10, 5))\n",
        "plt.ylabel(\"Gross Margin (USD)\")\n",
        "plt.grid(True)\n",
        "plt.show()"
      ],
      "metadata": {
        "colab": {
          "base_uri": "https://localhost:8080/",
          "height": 503
        },
        "id": "-jrGcsG9T8gt",
        "outputId": "edc51a6f-cc7c-4cff-8bed-b20795efdb4d"
      },
      "execution_count": null,
      "outputs": [
        {
          "output_type": "display_data",
          "data": {
            "text/plain": [
              "<Figure size 1000x500 with 1 Axes>"
            ],
            "image/png": "[encoded data removed]"
          },
          "metadata": {}
        }
      ]
    },
    {
      "cell_type": "markdown",
      "source": [
        "The above plot visually tracks profitability trends—you can spot peak months, low-performing periods, or seasonal effects.\n",
        "It tells us about the gross margin across months from Jan 2023 to Jan 2025\n",
        "\n",
        "A rise in trend suggests improving margins or sales efficiency, while a falling trend may indicate the need for operational or pricing adjustments.\n",
        "The above trend gives Zara a month-by-month picture of gross margin, helping the business understand when and why profits go up or down. It’s essential for identifying seasonality, planning promotions, and maximizing margin efficiency over the year."
      ],
      "metadata": {
        "id": "VIBVwkPYtkBj"
      }
    },
    {
      "cell_type": "markdown",
      "source": [
        "**STEP 9: Hypothesis Testing (Example)**\n",
        "->Hypothesis: \"Discounts reduce Gross Margin per unit.\"\n",
        "I have taken that does discounts reduce the gross margin per unit.\n",
        "Is it true or just an assumption."
      ],
      "metadata": {
        "id": "Nzn7Sn13UIBh"
      }
    },
    {
      "cell_type": "code",
      "source": [
        "import seaborn as sns\n",
        "import matplotlib.pyplot as plt\n",
        "\n",
        "merged['Margin per Unit'] = merged['Gross Margin'] / merged['Quantity']\n",
        "\n",
        "sns.boxplot(data=merged, x=pd.cut(merged['Discount'], bins=[-0.01, 0.1, 0.3, 0.5, 1.0]),\n",
        "            y='Margin per Unit')\n",
        "plt.title(\"Margin per Unit within Discount Ranges\")\n",
        "plt.ylabel(\"Gross Margin per Unit (USD)\")\n",
        "plt.xlabel(\"Discount Range\")\n",
        "plt.show()"
      ],
      "metadata": {
        "colab": {
          "base_uri": "https://localhost:8080/",
          "height": 472
        },
        "id": "JVSuTvfOUE04",
        "outputId": "d0a5ebde-f74c-40ba-8719-577179c9666b"
      },
      "execution_count": null,
      "outputs": [
        {
          "output_type": "display_data",
          "data": {
            "text/plain": [
              "<Figure size 640x480 with 1 Axes>"
            ],
            "image/png": "[encoded data removed]"
          },
          "metadata": {}
        }
      ]
    },
    {
      "cell_type": "markdown",
      "source": [
        "The above Discount range helps you visually assess whether higher discounts lead to lower margins per unit.\n",
        "\n",
        "If the boxplot shows a downward trend (i.e., lower median margin per unit as discount increases), then higher discounts are reducing the gross margin.\n",
        "\n",
        "On the other hand, if the boxplots remain flat or inconsistent across discount bins, it means discounting may not directly affect margin per unit—or other factors  could be influencing it.\n",
        "\n",
        "This analysis helps Zara assess if aggressive discounting is cutting too deep into profit margins. If higher discount bins show clearly lower margins per unit, then Zara should consider revising its discount strategies to protect profitability."
      ],
      "metadata": {
        "id": "HXlyFGoOsen_"
      }
    },
    {
      "cell_type": "code",
      "source": [
        "print(merged.head())\n",
        "print(merged.info())\n",
        "print(merged.describe())\n"
      ],
      "metadata": {
        "colab": {
          "base_uri": "https://localhost:8080/"
        },
        "id": "SHXxtSKsyJKx",
        "outputId": "373a5859-c57e-48cf-ca7a-df4b581626ab"
      },
      "execution_count": null,
      "outputs": [
        {
          "output_type": "stream",
          "name": "stdout",
          "text": [
            "            Invoice ID  Line  Customer ID  Product ID Size    Color  \\\n",
            "0  INV-US-001-03558761     1        47162         485    M      NaN   \n",
            "1  INV-US-001-03558761     2        47162        2779    G      NaN   \n",
            "2  INV-US-001-03558761     3        47162          64    M  NEUTRAL   \n",
            "3  INV-US-001-03558762     1        10142         131    M     BLUE   \n",
            "4  INV-US-001-03558762     2        10142         716    L    WHITE   \n",
            "\n",
            "   Unit Price  Quantity                Date  Discount  ...  Currency  \\\n",
            "0        80.5         1 2023-01-01 15:42:00       0.0  ...       USD   \n",
            "1        31.5         1 2023-01-01 15:42:00       0.4  ...       USD   \n",
            "2        45.5         1 2023-01-01 15:42:00       0.4  ...       USD   \n",
            "3        70.0         1 2023-01-01 20:04:00       0.4  ...       USD   \n",
            "4        26.0         1 2023-01-01 20:04:00       0.0  ...       USD   \n",
            "\n",
            "   Currency Symbol               SKU Transaction Type Payment Method  \\\n",
            "0                $        MASU485-M-             Sale           Cash   \n",
            "1                $       CHCO2779-G-             Sale           Cash   \n",
            "2                $  MACO64-M-NEUTRAL             Sale           Cash   \n",
            "3                $    FECO131-M-BLUE             Sale           Cash   \n",
            "4                $   MAT-716-L-WHITE             Sale           Cash   \n",
            "\n",
            "  Invoice Total Production Cost Gross Margin    Month  Margin per Unit  \n",
            "0         126.7           12.09        68.41  2023-01            68.41  \n",
            "1         126.7           15.14        16.36  2023-01            16.36  \n",
            "2         126.7           12.02        33.48  2023-01            33.48  \n",
            "3          77.0           49.28        20.72  2023-01            20.72  \n",
            "4          77.0            8.31        17.69  2023-01            17.69  \n",
            "\n",
            "[5 rows x 23 columns]\n",
            "<class 'pandas.core.frame.DataFrame'>\n",
            "RangeIndex: 6416827 entries, 0 to 6416826\n",
            "Data columns (total 23 columns):\n",
            " #   Column            Dtype         \n",
            "---  ------            -----         \n",
            " 0   Invoice ID        object        \n",
            " 1   Line              int64         \n",
            " 2   Customer ID       int64         \n",
            " 3   Product ID        int64         \n",
            " 4   Size              object        \n",
            " 5   Color             object        \n",
            " 6   Unit Price        float64       \n",
            " 7   Quantity          int64         \n",
            " 8   Date              datetime64[ns]\n",
            " 9   Discount          float64       \n",
            " 10  Line Total        float64       \n",
            " 11  Store ID          int64         \n",
            " 12  Employee ID       int64         \n",
            " 13  Currency          object        \n",
            " 14  Currency Symbol   object        \n",
            " 15  SKU               object        \n",
            " 16  Transaction Type  object        \n",
            " 17  Payment Method    object        \n",
            " 18  Invoice Total     float64       \n",
            " 19  Production Cost   float64       \n",
            " 20  Gross Margin      float64       \n",
            " 21  Month             period[M]     \n",
            " 22  Margin per Unit   float64       \n",
            "dtypes: datetime64[ns](1), float64(7), int64(6), object(8), period[M](1)\n",
            "memory usage: 1.1+ GB\n",
            "None\n",
            "               Line   Customer ID    Product ID    Unit Price      Quantity  \\\n",
            "count  6.416827e+06  6.416827e+06  6.416827e+06  6.416827e+06  6.416827e+06   \n",
            "mean   1.580262e+00  7.326331e+05  9.263666e+03  1.324640e+02  1.100243e+00   \n",
            "min    1.000000e+00  1.000000e+00  1.000000e+00  2.000000e+00  1.000000e+00   \n",
            "25%    1.000000e+00  2.945170e+05  6.385000e+03  3.250000e+01  1.000000e+00   \n",
            "50%    1.000000e+00  6.765210e+05  9.156000e+03  5.100000e+01  1.000000e+00   \n",
            "75%    2.000000e+00  1.138852e+06  1.267900e+04  1.165000e+02  1.000000e+00   \n",
            "max    7.000000e+00  1.643306e+06  1.794000e+04  1.153500e+03  3.000000e+00   \n",
            "std    1.151730e+00  4.874764e+05  3.856838e+03  1.850971e+02  3.963792e-01   \n",
            "\n",
            "                                Date      Discount    Line Total  \\\n",
            "count                        6416827  6.416827e+06  6.416827e+06   \n",
            "mean   2024-03-12 17:01:12.023905280  1.190578e-01  1.141912e+02   \n",
            "min              2023-01-01 00:00:00  0.000000e+00 -3.348000e+03   \n",
            "25%              2023-09-22 13:12:30  0.000000e+00  2.475000e+01   \n",
            "50%              2024-03-10 19:52:00  0.000000e+00  4.350000e+01   \n",
            "75%              2024-10-08 15:15:00  2.500000e-01  1.090000e+02   \n",
            "max              2025-03-18 20:59:00  6.000000e-01  3.460500e+03   \n",
            "std                              NaN  1.990280e-01  2.115865e+02   \n",
            "\n",
            "           Store ID   Employee ID  Invoice Total  Production Cost  \\\n",
            "count  6.416827e+06  6.416827e+06   6.416827e+06     6.416827e+06   \n",
            "mean   1.345978e+01  1.562327e+02   2.435266e+02     1.733211e+01   \n",
            "min    1.000000e+00  5.000000e+00  -6.750500e+03     5.600000e-01   \n",
            "25%    5.000000e+00  5.800000e+01   3.402000e+01     8.650000e+00   \n",
            "50%    1.000000e+01  1.220000e+02   8.350000e+01     1.432000e+01   \n",
            "75%    2.200000e+01  2.530000e+02   2.410000e+02     2.264000e+01   \n",
            "max    3.500000e+01  4.040000e+02   8.977000e+03     7.719000e+01   \n",
            "std    1.013435e+01  1.171475e+02   5.367338e+02     1.204936e+01   \n",
            "\n",
            "       Gross Margin  Margin per Unit  \n",
            "count  6.416827e+06     6.416827e+06  \n",
            "mean   1.266872e+02     1.151319e+02  \n",
            "min   -4.344000e+01    -1.776000e+01  \n",
            "25%    1.948000e+01     1.886000e+01  \n",
            "50%    3.442000e+01     3.257000e+01  \n",
            "75%    1.025500e+02     8.413000e+01  \n",
            "max    3.379320e+03     1.133200e+03  \n",
            "std    2.180129e+02     1.821802e+02  \n"
          ]
        }
      ]
    },
    {
      "cell_type": "markdown",
      "source": [
        "**MONTHLY WISE GROSS MARGIN**"
      ],
      "metadata": {
        "id": "4D_x9XZIrhdb"
      }
    },
    {
      "cell_type": "code",
      "source": [
        "merged['Date'] = pd.to_datetime(merged['Date'])\n",
        "merged['Month'] = merged['Date'].dt.to_period('M')\n",
        "\n",
        "monthly_margin = merged.groupby('Month')['Gross Margin'].sum()\n",
        "monthly_margin.plot(kind='line', marker='o')\n",
        "plt.title('Monthly Gross Margin')\n",
        "plt.ylabel('Gross Margin')\n",
        "plt.xlabel('Month')\n",
        "plt.show()\n"
      ],
      "metadata": {
        "colab": {
          "base_uri": "https://localhost:8080/",
          "height": 488
        },
        "id": "aVtEkRFcyOYa",
        "outputId": "45e2edce-9aaa-40b3-80b7-ec8eb3404295"
      },
      "execution_count": null,
      "outputs": [
        {
          "output_type": "display_data",
          "data": {
            "text/plain": [
              "<Figure size 640x480 with 1 Axes>"
            ],
            "image/png": "[encoded data removed]"
          },
          "metadata": {}
        }
      ]
    },
    {
      "cell_type": "code",
      "source": [
        "#import os\n",
        "#print(os.getcwd())\n"
      ],
      "metadata": {
        "colab": {
          "base_uri": "https://localhost:8080/"
        },
        "id": "Y54VeeNdywHe",
        "outputId": "f2967d42-8078-428a-f6c3-1dc297fb75b1"
      },
      "execution_count": null,
      "outputs": [
        {
          "output_type": "stream",
          "name": "stdout",
          "text": [
            "/content\n"
          ]
        }
      ]
    },
    {
      "cell_type": "code",
      "source": [
        "#merged.to_csv('zara_merged.csv', index=False)\n",
        "#print(\"File saved successfully!\")\n"
      ],
      "metadata": {
        "colab": {
          "base_uri": "https://localhost:8080/"
        },
        "id": "0s_eqhckyzQ4",
        "outputId": "46017dfb-af21-4064-d5c1-cafcdc51d17a"
      },
      "execution_count": null,
      "outputs": [
        {
          "output_type": "stream",
          "name": "stdout",
          "text": [
            "File saved successfully!\n"
          ]
        }
      ]
    },
    {
      "cell_type": "code",
      "source": [
        "#print(os.path.isfile('zara_merged.csv'))\n"
      ],
      "metadata": {
        "colab": {
          "base_uri": "https://localhost:8080/"
        },
        "id": "3ZlaxQpLzU-v",
        "outputId": "471e788b-140d-4acd-d055-3c04e7100ea5"
      },
      "execution_count": null,
      "outputs": [
        {
          "output_type": "stream",
          "name": "stdout",
          "text": [
            "True\n"
          ]
        }
      ]
    },
    {
      "cell_type": "code",
      "source": [
        "#from google.colab import files\n",
        "#files.download('zara_merged.csv')\n"
      ],
      "metadata": {
        "colab": {
          "base_uri": "https://localhost:8080/",
          "height": 17
        },
        "id": "av8ZShdmzX6z",
        "outputId": "fc16dc1f-c3a2-430f-dfe4-209b06242759"
      },
      "execution_count": null,
      "outputs": [
        {
          "output_type": "display_data",
          "data": {
            "text/plain": [
              "<IPython.core.display.Javascript object>"
            ],
            "application/javascript": [
              "\n",
              "    async function download(id, filename, size) {\n",
              "      if (!google.colab.kernel.accessAllowed) {\n",
              "        return;\n",
              "      }\n",
              "      const div = document.createElement('div');\n",
              "      const label = document.createElement('label');\n",
              "      label.textContent = `Downloading \"${filename}\": `;\n",
              "      div.appendChild(label);\n",
              "      const progress = document.createElement('progress');\n",
              "      progress.max = size;\n",
              "      div.appendChild(progress);\n",
              "      document.body.appendChild(div);\n",
              "\n",
              "      const buffers = [];\n",
              "      let downloaded = 0;\n",
              "\n",
              "      const channel = await google.colab.kernel.comms.open(id);\n",
              "      // Send a message to notify the kernel that we're ready.\n",
              "      channel.send({})\n",
              "\n",
              "      for await (const message of channel.messages) {\n",
              "        // Send a message to notify the kernel that we're ready.\n",
              "        channel.send({})\n",
              "        if (message.buffers) {\n",
              "          for (const buffer of message.buffers) {\n",
              "            buffers.push(buffer);\n",
              "            downloaded += buffer.byteLength;\n",
              "            progress.value = downloaded;\n",
              "          }\n",
              "        }\n",
              "      }\n",
              "      const blob = new Blob(buffers, {type: 'application/binary'});\n",
              "      const a = document.createElement('a');\n",
              "      a.href = window.URL.createObjectURL(blob);\n",
              "      a.download = filename;\n",
              "      div.appendChild(a);\n",
              "      a.click();\n",
              "      div.remove();\n",
              "    }\n",
              "  "
            ]
          },
          "metadata": {}
        },
        {
          "output_type": "display_data",
          "data": {
            "text/plain": [
              "<IPython.core.display.Javascript object>"
            ],
            "application/javascript": [
              "download(\"download_5deb4786-3a79-404a-9fa6-ddcf1fd10abc\", \"zara_merged.csv\", 1005927626)"
            ]
          },
          "metadata": {}
        }
      ]
    },
    {
      "cell_type": "markdown",
      "source": [
        "-->Key Findings and Recommendations"
      ],
      "metadata": {
        "id": "JBmgEnJxBjXg"
      }
    },
    {
      "cell_type": "markdown",
      "source": [
        "**Important Findings:  \n",
        "Concentration of Revenue by Nation:**  According to the geochart, a small number of nations account for a disproportionate amount of Zara's overall earnings.  For instance, when compared to other nations, the United States, China, and Germany produce the most money.\n",
        "\n",
        " **Regional Differences in Gross Margin**: Some very profitable nations might not always have high gross margins, which could be a sign of variations in production costs, discounting schemes, or market client segments.\n",
        "\n",
        "** Underperforming Markets Identified:** The geovisualization highlights possible markets where Zara could enhance performance or reevaluate resource allocation by exposing nations or areas with relatively low revenue and gross margin.\n",
        " Regional Effects of bargain Campaigns: Regions that experience frequent or significant discounts typically have lower gross margins, suggesting that bargain tactics may be hurting business there.\n",
        "\n",
        "**Correlation with Store Density and Size**:\n",
        "Countries with higher numbers of stores and employees tend to generate more revenue but might also face higher production and operational costs, influencing overall margins.\n",
        "\n",
        "**Recommendations**:\n",
        " **Pay Attention to High-Margin Markets**\n",
        " To increase profitability, give marketing and inventory spending top priority in nations with substantial sales and robust gross margins, such as the US and several regions of Europe.\n",
        "\n",
        " **Optimize Discount Strategies Regionally**: Customize discount campaigns by region to steer clear of steep discounts that reduce gross margin and instead concentrate on focused promotions that draw in lucrative clientele.\n",
        "\n",
        " **Investigate Growth Prospects in Underperforming Areas**:\n",
        " Develop localized methods to increase sales and margins by conducting in-depth research into failing markets to identify obstacles such as pricing models, store placement, and client preferences.\n",
        "\n",
        " Use store-level knowledge to reproduce effective techniques from high-performing locations in comparable demographic or geographic areas. This is known as \"leveraging store performance data.\"\n",
        "\n",
        "**Invest in Data-Driven Pricing Models**:\n",
        "Implement dynamic pricing tools that adjust prices based on product category, region, and customer segment to optimize the balance between sales volume and gross margin.\n",
        "\n",
        "**Continual Monitoring Using Geo Visualizations**:\n",
        "Maintain updated geo charts and dashboards to regularly track revenue and gross margin changes, enabling agile responses to market trends and operational decisions."
      ],
      "metadata": {
        "id": "ELUo6SdtBkhb"
      }
    },
    {
      "cell_type": "markdown",
      "source": [
        "**Solutions to Business Objectives:**"
      ],
      "metadata": {
        "id": "04c10roLBu9r"
      }
    },
    {
      "cell_type": "markdown",
      "source": [
        "**Maximize Gross Margin by Market Solution:** Utilize detailed cost and sales data to determine high-margin products and segments. Maximize marketing and inventory for these products and segments. Dynamically price according to market demand and competitor prices.\n",
        "Action: Conduct segment-wise profitability analysis and price and offer product accordingly.\n",
        "\n",
        "**Improve Data-Driven Decision Making Solution: **Create interactive dashboards in Tableau that show important measures such as gross margin, sales, discounts, and store performance by geography and customer segment.\n",
        "Action: Automate data refresh and reporting procedures to present real-time insights to decision-makers.\n",
        "\n",
        "**Maximize Operational Efficiency Solution: **Study employee roles, store sizes, and sales performance to reveal inefficiencies. Suggest staffing changes and store resource allocation according to sales and margin contributions.\n",
        "Action: Leverage predictive analytics to predict staffing requirements and streamline store operation for profitability.\n",
        "\n",
        "**Personalize Marketing and Pricing Strategies Solution**: Utilize customer demographics, buying behavior, and discount campaign information to create customized marketing campaigns and promotional discount offers.\n",
        "\n",
        "\n",
        "5. **Monitor and Adapt to Market Trends**\n",
        "Solution:\n",
        "Develop time-series analyses and trend visualizations to track gross margin fluctuations and sales seasonality.\n",
        "\n",
        "Action:\n",
        "Establish regular review meetings with dynamic reports to quickly respond to emerging trends and adjust strategies accordingly."
      ],
      "metadata": {
        "id": "dIGENTvKB0lt"
      }
    },
    {
      "cell_type": "markdown",
      "source": [
        "**Conclusion**:\n",
        "\n",
        "Through in-depth analysis of Zara's retail data sets, this project sheds light on some of the most important drivers of gross margin across markets, product categories, and customer segments. The investigation confirms that though concentration in revenues is high in key markets such as the US and China, gross margins are highly divergent because of pricing policies, discounting behavior, and operational aspects.\n",
        "\n",
        "Geo-visualizations and segment analyses reveal chances to maximize discount campaigns, improve pricing models, and direct investments into top-performing regions and customer segments. Tackling low-performing markets with strategic interventions can release additional profitability, while cost-saving improvements at store and employee levels can lower expenses.\n",
        "\n",
        "Finally, utilizing these data-driven facts allows Zara to move away from merely focusing on sales growth to strategically pursuing profitability optimization. By adopting the suggested strategies and continuously monitoring the data, Zara is poised to maintain competitive edge in the rapidly changing fashion retail market.\n"
      ],
      "metadata": {
        "id": "CrM4y4AVCJn3"
      }
    }
  ]
}